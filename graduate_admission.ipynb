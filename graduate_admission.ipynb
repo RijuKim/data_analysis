{
  "nbformat": 4,
  "nbformat_minor": 0,
  "metadata": {
    "colab": {
      "provenance": [],
      "collapsed_sections": [
        "OSWjczpgxtLM",
        "OFxC0P9pCJ5X",
        "Lp4Oh5Syzh4L",
        "mtvbHihHSpU0",
        "ec8mB979Nz-o",
        "ofx4X_h8TSN-",
        "_7pExLqXVmdx",
        "2n9ZcCO1avHL",
        "CEB5onCgYzgv",
        "u9uWx3v9bxqR",
        "5-41GqwceKyZ",
        "sEaaY_4zQMmR",
        "6dFr1ocli4yK",
        "6gr0qx9CeaPp",
        "J-P31znSqpDY",
        "mXXMXzSMNp_2",
        "7RqNIyirMidX",
        "RDzixwNsNuqp",
        "A0OQmsBmN6QY",
        "p-Gqf6PDN8qd",
        "j7egREDFOUam",
        "yZZMzOQJObNb",
        "pUck6vrOyrGn",
        "kXXWLJdPOvu2"
      ],
      "include_colab_link": true
    },
    "kernelspec": {
      "name": "python3",
      "display_name": "Python 3"
    },
    "language_info": {
      "name": "python"
    }
  },
  "cells": [
    {
      "cell_type": "markdown",
      "metadata": {
        "id": "view-in-github",
        "colab_type": "text"
      },
      "source": [
        "<a href=\"https://colab.research.google.com/github/RijuKim/data_analysis/blob/main/graduate_admission.ipynb\" target=\"_parent\"><img src=\"https://colab.research.google.com/assets/colab-badge.svg\" alt=\"Open In Colab\"/></a>"
      ]
    },
    {
      "cell_type": "markdown",
      "metadata": {
        "id": "4F-I5xD1p3MC"
      },
      "source": [
        "#\bPredicting admission from important parameters\n",
        "어떤 사람들이 대학원에 입학할 가능성이 높을까?\n",
        "\n",
        "---\n",
        "https://www.kaggle.com/mohansacharya/graduate-admissions\n",
        "\n",
        "칼럼 정보\n",
        "\n",
        "* GRE Scores : Graduate Record Examination : 대학원 입학 시 치르는 시험 점수 <BR>\n",
        "* TOEFL Scores : 토플 점수  <BR>\n",
        "* University Rating : 대학교 레벨 <BR>\n",
        "* Statement of Purpose Strength : 학업계획서 점수<BR>\n",
        "* Letter of Recommendation Strength : 추천서 점수<BR>\n",
        "* Undergraduate GPA : 대학교 학점<BR>\n",
        "* Research Experience : 연구 경험 유무<BR>\n",
        "* Chance of Admit : 대학원 입학 확률<BR>"
      ]
    },
    {
      "cell_type": "markdown",
      "source": [
        "# 한글 깨짐 미리 방지하기"
      ],
      "metadata": {
        "id": "bqx4G10X-w_l"
      }
    },
    {
      "cell_type": "code",
      "metadata": {
        "id": "Gef6BrH8Bc-T",
        "colab": {
          "base_uri": "https://localhost:8080/"
        },
        "outputId": "51fb00eb-c03b-4300-f192-1f2524a39c9c"
      },
      "source": [
        "# 한글 깨짐 방지\n",
        "!sudo apt-get install -y fonts-nanum\n",
        "!sudo fc-cache -fv\n",
        "!rm ~/.cache/matplotlib -rf\n",
        "# 런타임 다시 실행"
      ],
      "execution_count": 1,
      "outputs": [
        {
          "output_type": "stream",
          "name": "stdout",
          "text": [
            "Reading package lists... Done\n",
            "Building dependency tree       \n",
            "Reading state information... Done\n",
            "fonts-nanum is already the newest version (20170925-1).\n",
            "The following package was automatically installed and is no longer required:\n",
            "  libnvidia-common-460\n",
            "Use 'sudo apt autoremove' to remove it.\n",
            "0 upgraded, 0 newly installed, 0 to remove and 21 not upgraded.\n",
            "/usr/share/fonts: caching, new cache contents: 0 fonts, 1 dirs\n",
            "/usr/share/fonts/truetype: caching, new cache contents: 0 fonts, 3 dirs\n",
            "/usr/share/fonts/truetype/humor-sans: caching, new cache contents: 1 fonts, 0 dirs\n",
            "/usr/share/fonts/truetype/liberation: caching, new cache contents: 16 fonts, 0 dirs\n",
            "/usr/share/fonts/truetype/nanum: caching, new cache contents: 10 fonts, 0 dirs\n",
            "/usr/local/share/fonts: caching, new cache contents: 0 fonts, 0 dirs\n",
            "/root/.local/share/fonts: skipping, no such directory\n",
            "/root/.fonts: skipping, no such directory\n",
            "/var/cache/fontconfig: cleaning cache directory\n",
            "/root/.cache/fontconfig: not cleaning non-existent cache directory\n",
            "/root/.fontconfig: not cleaning non-existent cache directory\n",
            "fc-cache: succeeded\n"
          ]
        }
      ]
    },
    {
      "cell_type": "markdown",
      "metadata": {
        "id": "d_3mpN9GwVZL"
      },
      "source": [
        "# 데이터 불러오기\n"
      ]
    },
    {
      "cell_type": "markdown",
      "metadata": {
        "id": "M4pviAYGx9en"
      },
      "source": [
        "## Kaggle 데이터를 Colab으로 불러오기"
      ]
    },
    {
      "cell_type": "code",
      "metadata": {
        "id": "EuFeT3BnQ4Kq"
      },
      "source": [
        "# warnin창이 뜨면 무시한다\n",
        "import warnings\n",
        "warnings.filterwarnings('ignore') "
      ],
      "execution_count": 2,
      "outputs": []
    },
    {
      "cell_type": "code",
      "metadata": {
        "id": "ApXCo95T-7qt",
        "collapsed": true,
        "colab": {
          "base_uri": "https://localhost:8080/"
        },
        "outputId": "85544e35-6edd-4790-d05b-5f5c5d5cf036"
      },
      "source": [
        "# kaggle 파이썬 패키지 설치\n",
        "\n",
        "!pip install kaggle\n"
      ],
      "execution_count": 3,
      "outputs": [
        {
          "output_type": "stream",
          "name": "stdout",
          "text": [
            "Looking in indexes: https://pypi.org/simple, https://us-python.pkg.dev/colab-wheels/public/simple/\n",
            "Requirement already satisfied: kaggle in /usr/local/lib/python3.8/dist-packages (1.5.12)\n",
            "Requirement already satisfied: python-dateutil in /usr/local/lib/python3.8/dist-packages (from kaggle) (2.8.2)\n",
            "Requirement already satisfied: requests in /usr/local/lib/python3.8/dist-packages (from kaggle) (2.25.1)\n",
            "Requirement already satisfied: urllib3 in /usr/local/lib/python3.8/dist-packages (from kaggle) (1.24.3)\n",
            "Requirement already satisfied: six>=1.10 in /usr/local/lib/python3.8/dist-packages (from kaggle) (1.15.0)\n",
            "Requirement already satisfied: python-slugify in /usr/local/lib/python3.8/dist-packages (from kaggle) (7.0.0)\n",
            "Requirement already satisfied: tqdm in /usr/local/lib/python3.8/dist-packages (from kaggle) (4.64.1)\n",
            "Requirement already satisfied: certifi in /usr/local/lib/python3.8/dist-packages (from kaggle) (2022.12.7)\n",
            "Requirement already satisfied: text-unidecode>=1.3 in /usr/local/lib/python3.8/dist-packages (from python-slugify->kaggle) (1.3)\n",
            "Requirement already satisfied: idna<3,>=2.5 in /usr/local/lib/python3.8/dist-packages (from requests->kaggle) (2.10)\n",
            "Requirement already satisfied: chardet<5,>=3.0.2 in /usr/local/lib/python3.8/dist-packages (from requests->kaggle) (4.0.0)\n"
          ]
        }
      ]
    },
    {
      "cell_type": "code",
      "metadata": {
        "id": "kRCrVecp3edb",
        "colab": {
          "base_uri": "https://localhost:8080/",
          "height": 39
        },
        "outputId": "93596d33-ab2a-4b85-d2f5-8b959ca4fbb7"
      },
      "source": [
        "from google.colab import files\n",
        "files.upload()"
      ],
      "execution_count": null,
      "outputs": [
        {
          "output_type": "display_data",
          "data": {
            "text/plain": [
              "<IPython.core.display.HTML object>"
            ],
            "text/html": [
              "\n",
              "     <input type=\"file\" id=\"files-5d4a56a5-581a-4394-8e04-f9c566ca6709\" name=\"files[]\" multiple disabled\n",
              "        style=\"border:none\" />\n",
              "     <output id=\"result-5d4a56a5-581a-4394-8e04-f9c566ca6709\">\n",
              "      Upload widget is only available when the cell has been executed in the\n",
              "      current browser session. Please rerun this cell to enable.\n",
              "      </output>\n",
              "      <script>// Copyright 2017 Google LLC\n",
              "//\n",
              "// Licensed under the Apache License, Version 2.0 (the \"License\");\n",
              "// you may not use this file except in compliance with the License.\n",
              "// You may obtain a copy of the License at\n",
              "//\n",
              "//      http://www.apache.org/licenses/LICENSE-2.0\n",
              "//\n",
              "// Unless required by applicable law or agreed to in writing, software\n",
              "// distributed under the License is distributed on an \"AS IS\" BASIS,\n",
              "// WITHOUT WARRANTIES OR CONDITIONS OF ANY KIND, either express or implied.\n",
              "// See the License for the specific language governing permissions and\n",
              "// limitations under the License.\n",
              "\n",
              "/**\n",
              " * @fileoverview Helpers for google.colab Python module.\n",
              " */\n",
              "(function(scope) {\n",
              "function span(text, styleAttributes = {}) {\n",
              "  const element = document.createElement('span');\n",
              "  element.textContent = text;\n",
              "  for (const key of Object.keys(styleAttributes)) {\n",
              "    element.style[key] = styleAttributes[key];\n",
              "  }\n",
              "  return element;\n",
              "}\n",
              "\n",
              "// Max number of bytes which will be uploaded at a time.\n",
              "const MAX_PAYLOAD_SIZE = 100 * 1024;\n",
              "\n",
              "function _uploadFiles(inputId, outputId) {\n",
              "  const steps = uploadFilesStep(inputId, outputId);\n",
              "  const outputElement = document.getElementById(outputId);\n",
              "  // Cache steps on the outputElement to make it available for the next call\n",
              "  // to uploadFilesContinue from Python.\n",
              "  outputElement.steps = steps;\n",
              "\n",
              "  return _uploadFilesContinue(outputId);\n",
              "}\n",
              "\n",
              "// This is roughly an async generator (not supported in the browser yet),\n",
              "// where there are multiple asynchronous steps and the Python side is going\n",
              "// to poll for completion of each step.\n",
              "// This uses a Promise to block the python side on completion of each step,\n",
              "// then passes the result of the previous step as the input to the next step.\n",
              "function _uploadFilesContinue(outputId) {\n",
              "  const outputElement = document.getElementById(outputId);\n",
              "  const steps = outputElement.steps;\n",
              "\n",
              "  const next = steps.next(outputElement.lastPromiseValue);\n",
              "  return Promise.resolve(next.value.promise).then((value) => {\n",
              "    // Cache the last promise value to make it available to the next\n",
              "    // step of the generator.\n",
              "    outputElement.lastPromiseValue = value;\n",
              "    return next.value.response;\n",
              "  });\n",
              "}\n",
              "\n",
              "/**\n",
              " * Generator function which is called between each async step of the upload\n",
              " * process.\n",
              " * @param {string} inputId Element ID of the input file picker element.\n",
              " * @param {string} outputId Element ID of the output display.\n",
              " * @return {!Iterable<!Object>} Iterable of next steps.\n",
              " */\n",
              "function* uploadFilesStep(inputId, outputId) {\n",
              "  const inputElement = document.getElementById(inputId);\n",
              "  inputElement.disabled = false;\n",
              "\n",
              "  const outputElement = document.getElementById(outputId);\n",
              "  outputElement.innerHTML = '';\n",
              "\n",
              "  const pickedPromise = new Promise((resolve) => {\n",
              "    inputElement.addEventListener('change', (e) => {\n",
              "      resolve(e.target.files);\n",
              "    });\n",
              "  });\n",
              "\n",
              "  const cancel = document.createElement('button');\n",
              "  inputElement.parentElement.appendChild(cancel);\n",
              "  cancel.textContent = 'Cancel upload';\n",
              "  const cancelPromise = new Promise((resolve) => {\n",
              "    cancel.onclick = () => {\n",
              "      resolve(null);\n",
              "    };\n",
              "  });\n",
              "\n",
              "  // Wait for the user to pick the files.\n",
              "  const files = yield {\n",
              "    promise: Promise.race([pickedPromise, cancelPromise]),\n",
              "    response: {\n",
              "      action: 'starting',\n",
              "    }\n",
              "  };\n",
              "\n",
              "  cancel.remove();\n",
              "\n",
              "  // Disable the input element since further picks are not allowed.\n",
              "  inputElement.disabled = true;\n",
              "\n",
              "  if (!files) {\n",
              "    return {\n",
              "      response: {\n",
              "        action: 'complete',\n",
              "      }\n",
              "    };\n",
              "  }\n",
              "\n",
              "  for (const file of files) {\n",
              "    const li = document.createElement('li');\n",
              "    li.append(span(file.name, {fontWeight: 'bold'}));\n",
              "    li.append(span(\n",
              "        `(${file.type || 'n/a'}) - ${file.size} bytes, ` +\n",
              "        `last modified: ${\n",
              "            file.lastModifiedDate ? file.lastModifiedDate.toLocaleDateString() :\n",
              "                                    'n/a'} - `));\n",
              "    const percent = span('0% done');\n",
              "    li.appendChild(percent);\n",
              "\n",
              "    outputElement.appendChild(li);\n",
              "\n",
              "    const fileDataPromise = new Promise((resolve) => {\n",
              "      const reader = new FileReader();\n",
              "      reader.onload = (e) => {\n",
              "        resolve(e.target.result);\n",
              "      };\n",
              "      reader.readAsArrayBuffer(file);\n",
              "    });\n",
              "    // Wait for the data to be ready.\n",
              "    let fileData = yield {\n",
              "      promise: fileDataPromise,\n",
              "      response: {\n",
              "        action: 'continue',\n",
              "      }\n",
              "    };\n",
              "\n",
              "    // Use a chunked sending to avoid message size limits. See b/62115660.\n",
              "    let position = 0;\n",
              "    do {\n",
              "      const length = Math.min(fileData.byteLength - position, MAX_PAYLOAD_SIZE);\n",
              "      const chunk = new Uint8Array(fileData, position, length);\n",
              "      position += length;\n",
              "\n",
              "      const base64 = btoa(String.fromCharCode.apply(null, chunk));\n",
              "      yield {\n",
              "        response: {\n",
              "          action: 'append',\n",
              "          file: file.name,\n",
              "          data: base64,\n",
              "        },\n",
              "      };\n",
              "\n",
              "      let percentDone = fileData.byteLength === 0 ?\n",
              "          100 :\n",
              "          Math.round((position / fileData.byteLength) * 100);\n",
              "      percent.textContent = `${percentDone}% done`;\n",
              "\n",
              "    } while (position < fileData.byteLength);\n",
              "  }\n",
              "\n",
              "  // All done.\n",
              "  yield {\n",
              "    response: {\n",
              "      action: 'complete',\n",
              "    }\n",
              "  };\n",
              "}\n",
              "\n",
              "scope.google = scope.google || {};\n",
              "scope.google.colab = scope.google.colab || {};\n",
              "scope.google.colab._files = {\n",
              "  _uploadFiles,\n",
              "  _uploadFilesContinue,\n",
              "};\n",
              "})(self);\n",
              "</script> "
            ]
          },
          "metadata": {}
        }
      ]
    },
    {
      "cell_type": "code",
      "metadata": {
        "id": "nVvGO_sb38p0"
      },
      "source": [
        "# kaggle.json 사용가능하도록 설정하는 부분\n",
        "!mkdir -p ~/.kaggle\n",
        "!cp kaggle.json ~/.kaggle/\n",
        "!chmod 600 ~/.kaggle/kaggle.json"
      ],
      "execution_count": 5,
      "outputs": []
    },
    {
      "cell_type": "code",
      "metadata": {
        "id": "ufWEygVK4Jp4",
        "colab": {
          "base_uri": "https://localhost:8080/"
        },
        "outputId": "24de6fc7-21ad-4ba7-ac82-14adb68d3c8a"
      },
      "source": [
        "# kaggle 데이터 불러오기\n",
        "# copy API command & paste (쉘 명령어)\n",
        "\n",
        "!kaggle datasets download -d mohansacharya/graduate-admissions\n",
        "\n",
        "!unzip '*.zip'"
      ],
      "execution_count": 6,
      "outputs": [
        {
          "output_type": "stream",
          "name": "stdout",
          "text": [
            "graduate-admissions.zip: Skipping, found more recently modified local copy (use --force to force download)\n",
            "Archive:  graduate-admissions.zip\n",
            "replace Admission_Predict.csv? [y]es, [n]o, [A]ll, [N]one, [r]ename: yes\n",
            "  inflating: Admission_Predict.csv   \n",
            "replace Admission_Predict_Ver1.1.csv? [y]es, [n]o, [A]ll, [N]one, [r]ename: yes\n",
            "  inflating: Admission_Predict_Ver1.1.csv  \n"
          ]
        }
      ]
    },
    {
      "cell_type": "markdown",
      "metadata": {
        "id": "QQ8I29SHw6YD"
      },
      "source": [
        "# Pandas로 데이터 분석하기\n"
      ]
    },
    {
      "cell_type": "markdown",
      "metadata": {
        "id": "8nVGmkngx6PQ"
      },
      "source": [
        "## Admission_Predict_Ver1.1.csv 불러오기"
      ]
    },
    {
      "cell_type": "code",
      "metadata": {
        "id": "XGzqW7iayLIw"
      },
      "source": [
        "# pandas 임포트\n",
        "\n",
        "import pandas as pd"
      ],
      "execution_count": 7,
      "outputs": []
    },
    {
      "cell_type": "code",
      "source": [
        "# csv파일 불러오기\n",
        "\n",
        "data = pd.read_csv('Admission_Predict_Ver1.1.csv')"
      ],
      "metadata": {
        "id": "Xa8D1DfP8ye_"
      },
      "execution_count": 8,
      "outputs": []
    },
    {
      "cell_type": "markdown",
      "metadata": {
        "id": "E8ov2CY8yMwQ"
      },
      "source": [
        "## Pandas로 데이터 살펴보기"
      ]
    },
    {
      "cell_type": "code",
      "source": [
        "# 첫 다섯줄 출력하기\n",
        "\n",
        "data.head()"
      ],
      "metadata": {
        "id": "S3XusbuyAmYc",
        "colab": {
          "base_uri": "https://localhost:8080/",
          "height": 206
        },
        "outputId": "b6bac184-d8d6-4934-c127-87e07935810f"
      },
      "execution_count": 9,
      "outputs": [
        {
          "output_type": "execute_result",
          "data": {
            "text/plain": [
              "   Serial No.  GRE Score  TOEFL Score  University Rating  SOP  LOR   CGPA  \\\n",
              "0           1        337          118                  4  4.5   4.5  9.65   \n",
              "1           2        324          107                  4  4.0   4.5  8.87   \n",
              "2           3        316          104                  3  3.0   3.5  8.00   \n",
              "3           4        322          110                  3  3.5   2.5  8.67   \n",
              "4           5        314          103                  2  2.0   3.0  8.21   \n",
              "\n",
              "   Research  Chance of Admit   \n",
              "0         1              0.92  \n",
              "1         1              0.76  \n",
              "2         1              0.72  \n",
              "3         1              0.80  \n",
              "4         0              0.65  "
            ],
            "text/html": [
              "\n",
              "  <div id=\"df-ecf96916-bf3a-41ca-87c1-7ab1bf20efc4\">\n",
              "    <div class=\"colab-df-container\">\n",
              "      <div>\n",
              "<style scoped>\n",
              "    .dataframe tbody tr th:only-of-type {\n",
              "        vertical-align: middle;\n",
              "    }\n",
              "\n",
              "    .dataframe tbody tr th {\n",
              "        vertical-align: top;\n",
              "    }\n",
              "\n",
              "    .dataframe thead th {\n",
              "        text-align: right;\n",
              "    }\n",
              "</style>\n",
              "<table border=\"1\" class=\"dataframe\">\n",
              "  <thead>\n",
              "    <tr style=\"text-align: right;\">\n",
              "      <th></th>\n",
              "      <th>Serial No.</th>\n",
              "      <th>GRE Score</th>\n",
              "      <th>TOEFL Score</th>\n",
              "      <th>University Rating</th>\n",
              "      <th>SOP</th>\n",
              "      <th>LOR</th>\n",
              "      <th>CGPA</th>\n",
              "      <th>Research</th>\n",
              "      <th>Chance of Admit</th>\n",
              "    </tr>\n",
              "  </thead>\n",
              "  <tbody>\n",
              "    <tr>\n",
              "      <th>0</th>\n",
              "      <td>1</td>\n",
              "      <td>337</td>\n",
              "      <td>118</td>\n",
              "      <td>4</td>\n",
              "      <td>4.5</td>\n",
              "      <td>4.5</td>\n",
              "      <td>9.65</td>\n",
              "      <td>1</td>\n",
              "      <td>0.92</td>\n",
              "    </tr>\n",
              "    <tr>\n",
              "      <th>1</th>\n",
              "      <td>2</td>\n",
              "      <td>324</td>\n",
              "      <td>107</td>\n",
              "      <td>4</td>\n",
              "      <td>4.0</td>\n",
              "      <td>4.5</td>\n",
              "      <td>8.87</td>\n",
              "      <td>1</td>\n",
              "      <td>0.76</td>\n",
              "    </tr>\n",
              "    <tr>\n",
              "      <th>2</th>\n",
              "      <td>3</td>\n",
              "      <td>316</td>\n",
              "      <td>104</td>\n",
              "      <td>3</td>\n",
              "      <td>3.0</td>\n",
              "      <td>3.5</td>\n",
              "      <td>8.00</td>\n",
              "      <td>1</td>\n",
              "      <td>0.72</td>\n",
              "    </tr>\n",
              "    <tr>\n",
              "      <th>3</th>\n",
              "      <td>4</td>\n",
              "      <td>322</td>\n",
              "      <td>110</td>\n",
              "      <td>3</td>\n",
              "      <td>3.5</td>\n",
              "      <td>2.5</td>\n",
              "      <td>8.67</td>\n",
              "      <td>1</td>\n",
              "      <td>0.80</td>\n",
              "    </tr>\n",
              "    <tr>\n",
              "      <th>4</th>\n",
              "      <td>5</td>\n",
              "      <td>314</td>\n",
              "      <td>103</td>\n",
              "      <td>2</td>\n",
              "      <td>2.0</td>\n",
              "      <td>3.0</td>\n",
              "      <td>8.21</td>\n",
              "      <td>0</td>\n",
              "      <td>0.65</td>\n",
              "    </tr>\n",
              "  </tbody>\n",
              "</table>\n",
              "</div>\n",
              "      <button class=\"colab-df-convert\" onclick=\"convertToInteractive('df-ecf96916-bf3a-41ca-87c1-7ab1bf20efc4')\"\n",
              "              title=\"Convert this dataframe to an interactive table.\"\n",
              "              style=\"display:none;\">\n",
              "        \n",
              "  <svg xmlns=\"http://www.w3.org/2000/svg\" height=\"24px\"viewBox=\"0 0 24 24\"\n",
              "       width=\"24px\">\n",
              "    <path d=\"M0 0h24v24H0V0z\" fill=\"none\"/>\n",
              "    <path d=\"M18.56 5.44l.94 2.06.94-2.06 2.06-.94-2.06-.94-.94-2.06-.94 2.06-2.06.94zm-11 1L8.5 8.5l.94-2.06 2.06-.94-2.06-.94L8.5 2.5l-.94 2.06-2.06.94zm10 10l.94 2.06.94-2.06 2.06-.94-2.06-.94-.94-2.06-.94 2.06-2.06.94z\"/><path d=\"M17.41 7.96l-1.37-1.37c-.4-.4-.92-.59-1.43-.59-.52 0-1.04.2-1.43.59L10.3 9.45l-7.72 7.72c-.78.78-.78 2.05 0 2.83L4 21.41c.39.39.9.59 1.41.59.51 0 1.02-.2 1.41-.59l7.78-7.78 2.81-2.81c.8-.78.8-2.07 0-2.86zM5.41 20L4 18.59l7.72-7.72 1.47 1.35L5.41 20z\"/>\n",
              "  </svg>\n",
              "      </button>\n",
              "      \n",
              "  <style>\n",
              "    .colab-df-container {\n",
              "      display:flex;\n",
              "      flex-wrap:wrap;\n",
              "      gap: 12px;\n",
              "    }\n",
              "\n",
              "    .colab-df-convert {\n",
              "      background-color: #E8F0FE;\n",
              "      border: none;\n",
              "      border-radius: 50%;\n",
              "      cursor: pointer;\n",
              "      display: none;\n",
              "      fill: #1967D2;\n",
              "      height: 32px;\n",
              "      padding: 0 0 0 0;\n",
              "      width: 32px;\n",
              "    }\n",
              "\n",
              "    .colab-df-convert:hover {\n",
              "      background-color: #E2EBFA;\n",
              "      box-shadow: 0px 1px 2px rgba(60, 64, 67, 0.3), 0px 1px 3px 1px rgba(60, 64, 67, 0.15);\n",
              "      fill: #174EA6;\n",
              "    }\n",
              "\n",
              "    [theme=dark] .colab-df-convert {\n",
              "      background-color: #3B4455;\n",
              "      fill: #D2E3FC;\n",
              "    }\n",
              "\n",
              "    [theme=dark] .colab-df-convert:hover {\n",
              "      background-color: #434B5C;\n",
              "      box-shadow: 0px 1px 3px 1px rgba(0, 0, 0, 0.15);\n",
              "      filter: drop-shadow(0px 1px 2px rgba(0, 0, 0, 0.3));\n",
              "      fill: #FFFFFF;\n",
              "    }\n",
              "  </style>\n",
              "\n",
              "      <script>\n",
              "        const buttonEl =\n",
              "          document.querySelector('#df-ecf96916-bf3a-41ca-87c1-7ab1bf20efc4 button.colab-df-convert');\n",
              "        buttonEl.style.display =\n",
              "          google.colab.kernel.accessAllowed ? 'block' : 'none';\n",
              "\n",
              "        async function convertToInteractive(key) {\n",
              "          const element = document.querySelector('#df-ecf96916-bf3a-41ca-87c1-7ab1bf20efc4');\n",
              "          const dataTable =\n",
              "            await google.colab.kernel.invokeFunction('convertToInteractive',\n",
              "                                                     [key], {});\n",
              "          if (!dataTable) return;\n",
              "\n",
              "          const docLinkHtml = 'Like what you see? Visit the ' +\n",
              "            '<a target=\"_blank\" href=https://colab.research.google.com/notebooks/data_table.ipynb>data table notebook</a>'\n",
              "            + ' to learn more about interactive tables.';\n",
              "          element.innerHTML = '';\n",
              "          dataTable['output_type'] = 'display_data';\n",
              "          await google.colab.output.renderOutput(dataTable, element);\n",
              "          const docLink = document.createElement('div');\n",
              "          docLink.innerHTML = docLinkHtml;\n",
              "          element.appendChild(docLink);\n",
              "        }\n",
              "      </script>\n",
              "    </div>\n",
              "  </div>\n",
              "  "
            ]
          },
          "metadata": {},
          "execution_count": 9
        }
      ]
    },
    {
      "cell_type": "code",
      "source": [
        "# 행과 열 수 알아보기\n",
        "\n",
        "data.shape"
      ],
      "metadata": {
        "id": "WOAlDfNzAtCI",
        "colab": {
          "base_uri": "https://localhost:8080/"
        },
        "outputId": "1d93136a-82f9-4f6c-944f-8026ceb79957"
      },
      "execution_count": 10,
      "outputs": [
        {
          "output_type": "execute_result",
          "data": {
            "text/plain": [
              "(500, 9)"
            ]
          },
          "metadata": {},
          "execution_count": 10
        }
      ]
    },
    {
      "cell_type": "code",
      "source": [
        "# 데이터 값 요약\n",
        "\n",
        "data.describe()"
      ],
      "metadata": {
        "id": "bdE8bB47A44K",
        "colab": {
          "base_uri": "https://localhost:8080/",
          "height": 300
        },
        "outputId": "b7b05711-1adf-4f17-c42e-62f1bb11a744"
      },
      "execution_count": 11,
      "outputs": [
        {
          "output_type": "execute_result",
          "data": {
            "text/plain": [
              "       Serial No.   GRE Score  TOEFL Score  University Rating         SOP  \\\n",
              "count  500.000000  500.000000   500.000000         500.000000  500.000000   \n",
              "mean   250.500000  316.472000   107.192000           3.114000    3.374000   \n",
              "std    144.481833   11.295148     6.081868           1.143512    0.991004   \n",
              "min      1.000000  290.000000    92.000000           1.000000    1.000000   \n",
              "25%    125.750000  308.000000   103.000000           2.000000    2.500000   \n",
              "50%    250.500000  317.000000   107.000000           3.000000    3.500000   \n",
              "75%    375.250000  325.000000   112.000000           4.000000    4.000000   \n",
              "max    500.000000  340.000000   120.000000           5.000000    5.000000   \n",
              "\n",
              "            LOR         CGPA    Research  Chance of Admit   \n",
              "count  500.00000  500.000000  500.000000         500.00000  \n",
              "mean     3.48400    8.576440    0.560000           0.72174  \n",
              "std      0.92545    0.604813    0.496884           0.14114  \n",
              "min      1.00000    6.800000    0.000000           0.34000  \n",
              "25%      3.00000    8.127500    0.000000           0.63000  \n",
              "50%      3.50000    8.560000    1.000000           0.72000  \n",
              "75%      4.00000    9.040000    1.000000           0.82000  \n",
              "max      5.00000    9.920000    1.000000           0.97000  "
            ],
            "text/html": [
              "\n",
              "  <div id=\"df-80f273d6-bbdc-419f-a035-51c9b5c5fe23\">\n",
              "    <div class=\"colab-df-container\">\n",
              "      <div>\n",
              "<style scoped>\n",
              "    .dataframe tbody tr th:only-of-type {\n",
              "        vertical-align: middle;\n",
              "    }\n",
              "\n",
              "    .dataframe tbody tr th {\n",
              "        vertical-align: top;\n",
              "    }\n",
              "\n",
              "    .dataframe thead th {\n",
              "        text-align: right;\n",
              "    }\n",
              "</style>\n",
              "<table border=\"1\" class=\"dataframe\">\n",
              "  <thead>\n",
              "    <tr style=\"text-align: right;\">\n",
              "      <th></th>\n",
              "      <th>Serial No.</th>\n",
              "      <th>GRE Score</th>\n",
              "      <th>TOEFL Score</th>\n",
              "      <th>University Rating</th>\n",
              "      <th>SOP</th>\n",
              "      <th>LOR</th>\n",
              "      <th>CGPA</th>\n",
              "      <th>Research</th>\n",
              "      <th>Chance of Admit</th>\n",
              "    </tr>\n",
              "  </thead>\n",
              "  <tbody>\n",
              "    <tr>\n",
              "      <th>count</th>\n",
              "      <td>500.000000</td>\n",
              "      <td>500.000000</td>\n",
              "      <td>500.000000</td>\n",
              "      <td>500.000000</td>\n",
              "      <td>500.000000</td>\n",
              "      <td>500.00000</td>\n",
              "      <td>500.000000</td>\n",
              "      <td>500.000000</td>\n",
              "      <td>500.00000</td>\n",
              "    </tr>\n",
              "    <tr>\n",
              "      <th>mean</th>\n",
              "      <td>250.500000</td>\n",
              "      <td>316.472000</td>\n",
              "      <td>107.192000</td>\n",
              "      <td>3.114000</td>\n",
              "      <td>3.374000</td>\n",
              "      <td>3.48400</td>\n",
              "      <td>8.576440</td>\n",
              "      <td>0.560000</td>\n",
              "      <td>0.72174</td>\n",
              "    </tr>\n",
              "    <tr>\n",
              "      <th>std</th>\n",
              "      <td>144.481833</td>\n",
              "      <td>11.295148</td>\n",
              "      <td>6.081868</td>\n",
              "      <td>1.143512</td>\n",
              "      <td>0.991004</td>\n",
              "      <td>0.92545</td>\n",
              "      <td>0.604813</td>\n",
              "      <td>0.496884</td>\n",
              "      <td>0.14114</td>\n",
              "    </tr>\n",
              "    <tr>\n",
              "      <th>min</th>\n",
              "      <td>1.000000</td>\n",
              "      <td>290.000000</td>\n",
              "      <td>92.000000</td>\n",
              "      <td>1.000000</td>\n",
              "      <td>1.000000</td>\n",
              "      <td>1.00000</td>\n",
              "      <td>6.800000</td>\n",
              "      <td>0.000000</td>\n",
              "      <td>0.34000</td>\n",
              "    </tr>\n",
              "    <tr>\n",
              "      <th>25%</th>\n",
              "      <td>125.750000</td>\n",
              "      <td>308.000000</td>\n",
              "      <td>103.000000</td>\n",
              "      <td>2.000000</td>\n",
              "      <td>2.500000</td>\n",
              "      <td>3.00000</td>\n",
              "      <td>8.127500</td>\n",
              "      <td>0.000000</td>\n",
              "      <td>0.63000</td>\n",
              "    </tr>\n",
              "    <tr>\n",
              "      <th>50%</th>\n",
              "      <td>250.500000</td>\n",
              "      <td>317.000000</td>\n",
              "      <td>107.000000</td>\n",
              "      <td>3.000000</td>\n",
              "      <td>3.500000</td>\n",
              "      <td>3.50000</td>\n",
              "      <td>8.560000</td>\n",
              "      <td>1.000000</td>\n",
              "      <td>0.72000</td>\n",
              "    </tr>\n",
              "    <tr>\n",
              "      <th>75%</th>\n",
              "      <td>375.250000</td>\n",
              "      <td>325.000000</td>\n",
              "      <td>112.000000</td>\n",
              "      <td>4.000000</td>\n",
              "      <td>4.000000</td>\n",
              "      <td>4.00000</td>\n",
              "      <td>9.040000</td>\n",
              "      <td>1.000000</td>\n",
              "      <td>0.82000</td>\n",
              "    </tr>\n",
              "    <tr>\n",
              "      <th>max</th>\n",
              "      <td>500.000000</td>\n",
              "      <td>340.000000</td>\n",
              "      <td>120.000000</td>\n",
              "      <td>5.000000</td>\n",
              "      <td>5.000000</td>\n",
              "      <td>5.00000</td>\n",
              "      <td>9.920000</td>\n",
              "      <td>1.000000</td>\n",
              "      <td>0.97000</td>\n",
              "    </tr>\n",
              "  </tbody>\n",
              "</table>\n",
              "</div>\n",
              "      <button class=\"colab-df-convert\" onclick=\"convertToInteractive('df-80f273d6-bbdc-419f-a035-51c9b5c5fe23')\"\n",
              "              title=\"Convert this dataframe to an interactive table.\"\n",
              "              style=\"display:none;\">\n",
              "        \n",
              "  <svg xmlns=\"http://www.w3.org/2000/svg\" height=\"24px\"viewBox=\"0 0 24 24\"\n",
              "       width=\"24px\">\n",
              "    <path d=\"M0 0h24v24H0V0z\" fill=\"none\"/>\n",
              "    <path d=\"M18.56 5.44l.94 2.06.94-2.06 2.06-.94-2.06-.94-.94-2.06-.94 2.06-2.06.94zm-11 1L8.5 8.5l.94-2.06 2.06-.94-2.06-.94L8.5 2.5l-.94 2.06-2.06.94zm10 10l.94 2.06.94-2.06 2.06-.94-2.06-.94-.94-2.06-.94 2.06-2.06.94z\"/><path d=\"M17.41 7.96l-1.37-1.37c-.4-.4-.92-.59-1.43-.59-.52 0-1.04.2-1.43.59L10.3 9.45l-7.72 7.72c-.78.78-.78 2.05 0 2.83L4 21.41c.39.39.9.59 1.41.59.51 0 1.02-.2 1.41-.59l7.78-7.78 2.81-2.81c.8-.78.8-2.07 0-2.86zM5.41 20L4 18.59l7.72-7.72 1.47 1.35L5.41 20z\"/>\n",
              "  </svg>\n",
              "      </button>\n",
              "      \n",
              "  <style>\n",
              "    .colab-df-container {\n",
              "      display:flex;\n",
              "      flex-wrap:wrap;\n",
              "      gap: 12px;\n",
              "    }\n",
              "\n",
              "    .colab-df-convert {\n",
              "      background-color: #E8F0FE;\n",
              "      border: none;\n",
              "      border-radius: 50%;\n",
              "      cursor: pointer;\n",
              "      display: none;\n",
              "      fill: #1967D2;\n",
              "      height: 32px;\n",
              "      padding: 0 0 0 0;\n",
              "      width: 32px;\n",
              "    }\n",
              "\n",
              "    .colab-df-convert:hover {\n",
              "      background-color: #E2EBFA;\n",
              "      box-shadow: 0px 1px 2px rgba(60, 64, 67, 0.3), 0px 1px 3px 1px rgba(60, 64, 67, 0.15);\n",
              "      fill: #174EA6;\n",
              "    }\n",
              "\n",
              "    [theme=dark] .colab-df-convert {\n",
              "      background-color: #3B4455;\n",
              "      fill: #D2E3FC;\n",
              "    }\n",
              "\n",
              "    [theme=dark] .colab-df-convert:hover {\n",
              "      background-color: #434B5C;\n",
              "      box-shadow: 0px 1px 3px 1px rgba(0, 0, 0, 0.15);\n",
              "      filter: drop-shadow(0px 1px 2px rgba(0, 0, 0, 0.3));\n",
              "      fill: #FFFFFF;\n",
              "    }\n",
              "  </style>\n",
              "\n",
              "      <script>\n",
              "        const buttonEl =\n",
              "          document.querySelector('#df-80f273d6-bbdc-419f-a035-51c9b5c5fe23 button.colab-df-convert');\n",
              "        buttonEl.style.display =\n",
              "          google.colab.kernel.accessAllowed ? 'block' : 'none';\n",
              "\n",
              "        async function convertToInteractive(key) {\n",
              "          const element = document.querySelector('#df-80f273d6-bbdc-419f-a035-51c9b5c5fe23');\n",
              "          const dataTable =\n",
              "            await google.colab.kernel.invokeFunction('convertToInteractive',\n",
              "                                                     [key], {});\n",
              "          if (!dataTable) return;\n",
              "\n",
              "          const docLinkHtml = 'Like what you see? Visit the ' +\n",
              "            '<a target=\"_blank\" href=https://colab.research.google.com/notebooks/data_table.ipynb>data table notebook</a>'\n",
              "            + ' to learn more about interactive tables.';\n",
              "          element.innerHTML = '';\n",
              "          dataTable['output_type'] = 'display_data';\n",
              "          await google.colab.output.renderOutput(dataTable, element);\n",
              "          const docLink = document.createElement('div');\n",
              "          docLink.innerHTML = docLinkHtml;\n",
              "          element.appendChild(docLink);\n",
              "        }\n",
              "      </script>\n",
              "    </div>\n",
              "  </div>\n",
              "  "
            ]
          },
          "metadata": {},
          "execution_count": 11
        }
      ]
    },
    {
      "cell_type": "code",
      "source": [
        "# 데이터 전반적인 정보\n",
        "\n",
        "data.info()"
      ],
      "metadata": {
        "id": "1Ec5PI3wBgSB",
        "colab": {
          "base_uri": "https://localhost:8080/"
        },
        "outputId": "fc27afe0-49c0-418b-efad-4f94d264044f"
      },
      "execution_count": 12,
      "outputs": [
        {
          "output_type": "stream",
          "name": "stdout",
          "text": [
            "<class 'pandas.core.frame.DataFrame'>\n",
            "RangeIndex: 500 entries, 0 to 499\n",
            "Data columns (total 9 columns):\n",
            " #   Column             Non-Null Count  Dtype  \n",
            "---  ------             --------------  -----  \n",
            " 0   Serial No.         500 non-null    int64  \n",
            " 1   GRE Score          500 non-null    int64  \n",
            " 2   TOEFL Score        500 non-null    int64  \n",
            " 3   University Rating  500 non-null    int64  \n",
            " 4   SOP                500 non-null    float64\n",
            " 5   LOR                500 non-null    float64\n",
            " 6   CGPA               500 non-null    float64\n",
            " 7   Research           500 non-null    int64  \n",
            " 8   Chance of Admit    500 non-null    float64\n",
            "dtypes: float64(4), int64(5)\n",
            "memory usage: 35.3 KB\n"
          ]
        }
      ]
    },
    {
      "cell_type": "code",
      "source": [
        "# 컬럼 정보 불러오기\n",
        "\n",
        "data.columns"
      ],
      "metadata": {
        "id": "YBSBP3IVB8Ej",
        "colab": {
          "base_uri": "https://localhost:8080/"
        },
        "outputId": "e1837dde-845a-470e-834c-ebaf252e3d3e"
      },
      "execution_count": 13,
      "outputs": [
        {
          "output_type": "execute_result",
          "data": {
            "text/plain": [
              "Index(['Serial No.', 'GRE Score', 'TOEFL Score', 'University Rating', 'SOP',\n",
              "       'LOR ', 'CGPA', 'Research', 'Chance of Admit '],\n",
              "      dtype='object')"
            ]
          },
          "metadata": {},
          "execution_count": 13
        }
      ]
    },
    {
      "cell_type": "code",
      "source": [
        "# 빈 값이 있는지 확인하기\n",
        "\n",
        "data.isnull().sum()"
      ],
      "metadata": {
        "id": "XMz-pa0dBmHs",
        "colab": {
          "base_uri": "https://localhost:8080/"
        },
        "outputId": "9d53c501-4b7b-405c-ea12-ee4a76b103dd"
      },
      "execution_count": 14,
      "outputs": [
        {
          "output_type": "execute_result",
          "data": {
            "text/plain": [
              "Serial No.           0\n",
              "GRE Score            0\n",
              "TOEFL Score          0\n",
              "University Rating    0\n",
              "SOP                  0\n",
              "LOR                  0\n",
              "CGPA                 0\n",
              "Research             0\n",
              "Chance of Admit      0\n",
              "dtype: int64"
            ]
          },
          "metadata": {},
          "execution_count": 14
        }
      ]
    },
    {
      "cell_type": "markdown",
      "metadata": {
        "id": "OSWjczpgxtLM"
      },
      "source": [
        "## Review\n",
        "### Pandas dataframe으로 데이터 접근하기"
      ]
    },
    {
      "cell_type": "code",
      "source": [
        "# 2~4번째 행만 슬라이싱 해서 가져오기\n",
        "\n",
        "#data.iloc[1:4]\n",
        "#data.loc[1:3]\n",
        "data[1:4]"
      ],
      "metadata": {
        "id": "4CJwcIc99bu6",
        "colab": {
          "base_uri": "https://localhost:8080/",
          "height": 0
        },
        "outputId": "da4ceb60-e6ca-42e4-ef4c-4574d30495fd"
      },
      "execution_count": 15,
      "outputs": [
        {
          "output_type": "execute_result",
          "data": {
            "text/plain": [
              "   Serial No.  GRE Score  TOEFL Score  University Rating  SOP  LOR   CGPA  \\\n",
              "1           2        324          107                  4  4.0   4.5  8.87   \n",
              "2           3        316          104                  3  3.0   3.5  8.00   \n",
              "3           4        322          110                  3  3.5   2.5  8.67   \n",
              "\n",
              "   Research  Chance of Admit   \n",
              "1         1              0.76  \n",
              "2         1              0.72  \n",
              "3         1              0.80  "
            ],
            "text/html": [
              "\n",
              "  <div id=\"df-45596e60-a8dd-4229-9c3d-b58e51a0f4ca\">\n",
              "    <div class=\"colab-df-container\">\n",
              "      <div>\n",
              "<style scoped>\n",
              "    .dataframe tbody tr th:only-of-type {\n",
              "        vertical-align: middle;\n",
              "    }\n",
              "\n",
              "    .dataframe tbody tr th {\n",
              "        vertical-align: top;\n",
              "    }\n",
              "\n",
              "    .dataframe thead th {\n",
              "        text-align: right;\n",
              "    }\n",
              "</style>\n",
              "<table border=\"1\" class=\"dataframe\">\n",
              "  <thead>\n",
              "    <tr style=\"text-align: right;\">\n",
              "      <th></th>\n",
              "      <th>Serial No.</th>\n",
              "      <th>GRE Score</th>\n",
              "      <th>TOEFL Score</th>\n",
              "      <th>University Rating</th>\n",
              "      <th>SOP</th>\n",
              "      <th>LOR</th>\n",
              "      <th>CGPA</th>\n",
              "      <th>Research</th>\n",
              "      <th>Chance of Admit</th>\n",
              "    </tr>\n",
              "  </thead>\n",
              "  <tbody>\n",
              "    <tr>\n",
              "      <th>1</th>\n",
              "      <td>2</td>\n",
              "      <td>324</td>\n",
              "      <td>107</td>\n",
              "      <td>4</td>\n",
              "      <td>4.0</td>\n",
              "      <td>4.5</td>\n",
              "      <td>8.87</td>\n",
              "      <td>1</td>\n",
              "      <td>0.76</td>\n",
              "    </tr>\n",
              "    <tr>\n",
              "      <th>2</th>\n",
              "      <td>3</td>\n",
              "      <td>316</td>\n",
              "      <td>104</td>\n",
              "      <td>3</td>\n",
              "      <td>3.0</td>\n",
              "      <td>3.5</td>\n",
              "      <td>8.00</td>\n",
              "      <td>1</td>\n",
              "      <td>0.72</td>\n",
              "    </tr>\n",
              "    <tr>\n",
              "      <th>3</th>\n",
              "      <td>4</td>\n",
              "      <td>322</td>\n",
              "      <td>110</td>\n",
              "      <td>3</td>\n",
              "      <td>3.5</td>\n",
              "      <td>2.5</td>\n",
              "      <td>8.67</td>\n",
              "      <td>1</td>\n",
              "      <td>0.80</td>\n",
              "    </tr>\n",
              "  </tbody>\n",
              "</table>\n",
              "</div>\n",
              "      <button class=\"colab-df-convert\" onclick=\"convertToInteractive('df-45596e60-a8dd-4229-9c3d-b58e51a0f4ca')\"\n",
              "              title=\"Convert this dataframe to an interactive table.\"\n",
              "              style=\"display:none;\">\n",
              "        \n",
              "  <svg xmlns=\"http://www.w3.org/2000/svg\" height=\"24px\"viewBox=\"0 0 24 24\"\n",
              "       width=\"24px\">\n",
              "    <path d=\"M0 0h24v24H0V0z\" fill=\"none\"/>\n",
              "    <path d=\"M18.56 5.44l.94 2.06.94-2.06 2.06-.94-2.06-.94-.94-2.06-.94 2.06-2.06.94zm-11 1L8.5 8.5l.94-2.06 2.06-.94-2.06-.94L8.5 2.5l-.94 2.06-2.06.94zm10 10l.94 2.06.94-2.06 2.06-.94-2.06-.94-.94-2.06-.94 2.06-2.06.94z\"/><path d=\"M17.41 7.96l-1.37-1.37c-.4-.4-.92-.59-1.43-.59-.52 0-1.04.2-1.43.59L10.3 9.45l-7.72 7.72c-.78.78-.78 2.05 0 2.83L4 21.41c.39.39.9.59 1.41.59.51 0 1.02-.2 1.41-.59l7.78-7.78 2.81-2.81c.8-.78.8-2.07 0-2.86zM5.41 20L4 18.59l7.72-7.72 1.47 1.35L5.41 20z\"/>\n",
              "  </svg>\n",
              "      </button>\n",
              "      \n",
              "  <style>\n",
              "    .colab-df-container {\n",
              "      display:flex;\n",
              "      flex-wrap:wrap;\n",
              "      gap: 12px;\n",
              "    }\n",
              "\n",
              "    .colab-df-convert {\n",
              "      background-color: #E8F0FE;\n",
              "      border: none;\n",
              "      border-radius: 50%;\n",
              "      cursor: pointer;\n",
              "      display: none;\n",
              "      fill: #1967D2;\n",
              "      height: 32px;\n",
              "      padding: 0 0 0 0;\n",
              "      width: 32px;\n",
              "    }\n",
              "\n",
              "    .colab-df-convert:hover {\n",
              "      background-color: #E2EBFA;\n",
              "      box-shadow: 0px 1px 2px rgba(60, 64, 67, 0.3), 0px 1px 3px 1px rgba(60, 64, 67, 0.15);\n",
              "      fill: #174EA6;\n",
              "    }\n",
              "\n",
              "    [theme=dark] .colab-df-convert {\n",
              "      background-color: #3B4455;\n",
              "      fill: #D2E3FC;\n",
              "    }\n",
              "\n",
              "    [theme=dark] .colab-df-convert:hover {\n",
              "      background-color: #434B5C;\n",
              "      box-shadow: 0px 1px 3px 1px rgba(0, 0, 0, 0.15);\n",
              "      filter: drop-shadow(0px 1px 2px rgba(0, 0, 0, 0.3));\n",
              "      fill: #FFFFFF;\n",
              "    }\n",
              "  </style>\n",
              "\n",
              "      <script>\n",
              "        const buttonEl =\n",
              "          document.querySelector('#df-45596e60-a8dd-4229-9c3d-b58e51a0f4ca button.colab-df-convert');\n",
              "        buttonEl.style.display =\n",
              "          google.colab.kernel.accessAllowed ? 'block' : 'none';\n",
              "\n",
              "        async function convertToInteractive(key) {\n",
              "          const element = document.querySelector('#df-45596e60-a8dd-4229-9c3d-b58e51a0f4ca');\n",
              "          const dataTable =\n",
              "            await google.colab.kernel.invokeFunction('convertToInteractive',\n",
              "                                                     [key], {});\n",
              "          if (!dataTable) return;\n",
              "\n",
              "          const docLinkHtml = 'Like what you see? Visit the ' +\n",
              "            '<a target=\"_blank\" href=https://colab.research.google.com/notebooks/data_table.ipynb>data table notebook</a>'\n",
              "            + ' to learn more about interactive tables.';\n",
              "          element.innerHTML = '';\n",
              "          dataTable['output_type'] = 'display_data';\n",
              "          await google.colab.output.renderOutput(dataTable, element);\n",
              "          const docLink = document.createElement('div');\n",
              "          docLink.innerHTML = docLinkHtml;\n",
              "          element.appendChild(docLink);\n",
              "        }\n",
              "      </script>\n",
              "    </div>\n",
              "  </div>\n",
              "  "
            ]
          },
          "metadata": {},
          "execution_count": 15
        }
      ]
    },
    {
      "cell_type": "code",
      "source": [
        "# LOR 열만 슬라이싱 해서 가져오기\n",
        "\n",
        "#data.loc[:,[\"LOR \"]]\n",
        "data[[\"LOR \"]]"
      ],
      "metadata": {
        "id": "zhTXOjuB9uH8",
        "colab": {
          "base_uri": "https://localhost:8080/",
          "height": 0
        },
        "outputId": "ac0b3e7d-3243-4024-bab7-e1e5a4876b9f"
      },
      "execution_count": 16,
      "outputs": [
        {
          "output_type": "execute_result",
          "data": {
            "text/plain": [
              "     LOR \n",
              "0     4.5\n",
              "1     4.5\n",
              "2     3.5\n",
              "3     2.5\n",
              "4     3.0\n",
              "..    ...\n",
              "495   4.0\n",
              "496   5.0\n",
              "497   5.0\n",
              "498   5.0\n",
              "499   4.5\n",
              "\n",
              "[500 rows x 1 columns]"
            ],
            "text/html": [
              "\n",
              "  <div id=\"df-b1799b92-918b-4384-8e57-967ba098df99\">\n",
              "    <div class=\"colab-df-container\">\n",
              "      <div>\n",
              "<style scoped>\n",
              "    .dataframe tbody tr th:only-of-type {\n",
              "        vertical-align: middle;\n",
              "    }\n",
              "\n",
              "    .dataframe tbody tr th {\n",
              "        vertical-align: top;\n",
              "    }\n",
              "\n",
              "    .dataframe thead th {\n",
              "        text-align: right;\n",
              "    }\n",
              "</style>\n",
              "<table border=\"1\" class=\"dataframe\">\n",
              "  <thead>\n",
              "    <tr style=\"text-align: right;\">\n",
              "      <th></th>\n",
              "      <th>LOR</th>\n",
              "    </tr>\n",
              "  </thead>\n",
              "  <tbody>\n",
              "    <tr>\n",
              "      <th>0</th>\n",
              "      <td>4.5</td>\n",
              "    </tr>\n",
              "    <tr>\n",
              "      <th>1</th>\n",
              "      <td>4.5</td>\n",
              "    </tr>\n",
              "    <tr>\n",
              "      <th>2</th>\n",
              "      <td>3.5</td>\n",
              "    </tr>\n",
              "    <tr>\n",
              "      <th>3</th>\n",
              "      <td>2.5</td>\n",
              "    </tr>\n",
              "    <tr>\n",
              "      <th>4</th>\n",
              "      <td>3.0</td>\n",
              "    </tr>\n",
              "    <tr>\n",
              "      <th>...</th>\n",
              "      <td>...</td>\n",
              "    </tr>\n",
              "    <tr>\n",
              "      <th>495</th>\n",
              "      <td>4.0</td>\n",
              "    </tr>\n",
              "    <tr>\n",
              "      <th>496</th>\n",
              "      <td>5.0</td>\n",
              "    </tr>\n",
              "    <tr>\n",
              "      <th>497</th>\n",
              "      <td>5.0</td>\n",
              "    </tr>\n",
              "    <tr>\n",
              "      <th>498</th>\n",
              "      <td>5.0</td>\n",
              "    </tr>\n",
              "    <tr>\n",
              "      <th>499</th>\n",
              "      <td>4.5</td>\n",
              "    </tr>\n",
              "  </tbody>\n",
              "</table>\n",
              "<p>500 rows × 1 columns</p>\n",
              "</div>\n",
              "      <button class=\"colab-df-convert\" onclick=\"convertToInteractive('df-b1799b92-918b-4384-8e57-967ba098df99')\"\n",
              "              title=\"Convert this dataframe to an interactive table.\"\n",
              "              style=\"display:none;\">\n",
              "        \n",
              "  <svg xmlns=\"http://www.w3.org/2000/svg\" height=\"24px\"viewBox=\"0 0 24 24\"\n",
              "       width=\"24px\">\n",
              "    <path d=\"M0 0h24v24H0V0z\" fill=\"none\"/>\n",
              "    <path d=\"M18.56 5.44l.94 2.06.94-2.06 2.06-.94-2.06-.94-.94-2.06-.94 2.06-2.06.94zm-11 1L8.5 8.5l.94-2.06 2.06-.94-2.06-.94L8.5 2.5l-.94 2.06-2.06.94zm10 10l.94 2.06.94-2.06 2.06-.94-2.06-.94-.94-2.06-.94 2.06-2.06.94z\"/><path d=\"M17.41 7.96l-1.37-1.37c-.4-.4-.92-.59-1.43-.59-.52 0-1.04.2-1.43.59L10.3 9.45l-7.72 7.72c-.78.78-.78 2.05 0 2.83L4 21.41c.39.39.9.59 1.41.59.51 0 1.02-.2 1.41-.59l7.78-7.78 2.81-2.81c.8-.78.8-2.07 0-2.86zM5.41 20L4 18.59l7.72-7.72 1.47 1.35L5.41 20z\"/>\n",
              "  </svg>\n",
              "      </button>\n",
              "      \n",
              "  <style>\n",
              "    .colab-df-container {\n",
              "      display:flex;\n",
              "      flex-wrap:wrap;\n",
              "      gap: 12px;\n",
              "    }\n",
              "\n",
              "    .colab-df-convert {\n",
              "      background-color: #E8F0FE;\n",
              "      border: none;\n",
              "      border-radius: 50%;\n",
              "      cursor: pointer;\n",
              "      display: none;\n",
              "      fill: #1967D2;\n",
              "      height: 32px;\n",
              "      padding: 0 0 0 0;\n",
              "      width: 32px;\n",
              "    }\n",
              "\n",
              "    .colab-df-convert:hover {\n",
              "      background-color: #E2EBFA;\n",
              "      box-shadow: 0px 1px 2px rgba(60, 64, 67, 0.3), 0px 1px 3px 1px rgba(60, 64, 67, 0.15);\n",
              "      fill: #174EA6;\n",
              "    }\n",
              "\n",
              "    [theme=dark] .colab-df-convert {\n",
              "      background-color: #3B4455;\n",
              "      fill: #D2E3FC;\n",
              "    }\n",
              "\n",
              "    [theme=dark] .colab-df-convert:hover {\n",
              "      background-color: #434B5C;\n",
              "      box-shadow: 0px 1px 3px 1px rgba(0, 0, 0, 0.15);\n",
              "      filter: drop-shadow(0px 1px 2px rgba(0, 0, 0, 0.3));\n",
              "      fill: #FFFFFF;\n",
              "    }\n",
              "  </style>\n",
              "\n",
              "      <script>\n",
              "        const buttonEl =\n",
              "          document.querySelector('#df-b1799b92-918b-4384-8e57-967ba098df99 button.colab-df-convert');\n",
              "        buttonEl.style.display =\n",
              "          google.colab.kernel.accessAllowed ? 'block' : 'none';\n",
              "\n",
              "        async function convertToInteractive(key) {\n",
              "          const element = document.querySelector('#df-b1799b92-918b-4384-8e57-967ba098df99');\n",
              "          const dataTable =\n",
              "            await google.colab.kernel.invokeFunction('convertToInteractive',\n",
              "                                                     [key], {});\n",
              "          if (!dataTable) return;\n",
              "\n",
              "          const docLinkHtml = 'Like what you see? Visit the ' +\n",
              "            '<a target=\"_blank\" href=https://colab.research.google.com/notebooks/data_table.ipynb>data table notebook</a>'\n",
              "            + ' to learn more about interactive tables.';\n",
              "          element.innerHTML = '';\n",
              "          dataTable['output_type'] = 'display_data';\n",
              "          await google.colab.output.renderOutput(dataTable, element);\n",
              "          const docLink = document.createElement('div');\n",
              "          docLink.innerHTML = docLinkHtml;\n",
              "          element.appendChild(docLink);\n",
              "        }\n",
              "      </script>\n",
              "    </div>\n",
              "  </div>\n",
              "  "
            ]
          },
          "metadata": {},
          "execution_count": 16
        }
      ]
    },
    {
      "cell_type": "code",
      "source": [
        "# 맨 첫줄의 SOP 값만 불러오기\n",
        "\n",
        "data.loc[0:0,[\"SOP\"]]"
      ],
      "metadata": {
        "id": "YRyi4wSr-cKX",
        "colab": {
          "base_uri": "https://localhost:8080/",
          "height": 0
        },
        "outputId": "bf86744a-3fb1-4095-c6a5-295af7d202bd"
      },
      "execution_count": 17,
      "outputs": [
        {
          "output_type": "execute_result",
          "data": {
            "text/plain": [
              "   SOP\n",
              "0  4.5"
            ],
            "text/html": [
              "\n",
              "  <div id=\"df-fe669af8-6000-4a97-993d-939678030bef\">\n",
              "    <div class=\"colab-df-container\">\n",
              "      <div>\n",
              "<style scoped>\n",
              "    .dataframe tbody tr th:only-of-type {\n",
              "        vertical-align: middle;\n",
              "    }\n",
              "\n",
              "    .dataframe tbody tr th {\n",
              "        vertical-align: top;\n",
              "    }\n",
              "\n",
              "    .dataframe thead th {\n",
              "        text-align: right;\n",
              "    }\n",
              "</style>\n",
              "<table border=\"1\" class=\"dataframe\">\n",
              "  <thead>\n",
              "    <tr style=\"text-align: right;\">\n",
              "      <th></th>\n",
              "      <th>SOP</th>\n",
              "    </tr>\n",
              "  </thead>\n",
              "  <tbody>\n",
              "    <tr>\n",
              "      <th>0</th>\n",
              "      <td>4.5</td>\n",
              "    </tr>\n",
              "  </tbody>\n",
              "</table>\n",
              "</div>\n",
              "      <button class=\"colab-df-convert\" onclick=\"convertToInteractive('df-fe669af8-6000-4a97-993d-939678030bef')\"\n",
              "              title=\"Convert this dataframe to an interactive table.\"\n",
              "              style=\"display:none;\">\n",
              "        \n",
              "  <svg xmlns=\"http://www.w3.org/2000/svg\" height=\"24px\"viewBox=\"0 0 24 24\"\n",
              "       width=\"24px\">\n",
              "    <path d=\"M0 0h24v24H0V0z\" fill=\"none\"/>\n",
              "    <path d=\"M18.56 5.44l.94 2.06.94-2.06 2.06-.94-2.06-.94-.94-2.06-.94 2.06-2.06.94zm-11 1L8.5 8.5l.94-2.06 2.06-.94-2.06-.94L8.5 2.5l-.94 2.06-2.06.94zm10 10l.94 2.06.94-2.06 2.06-.94-2.06-.94-.94-2.06-.94 2.06-2.06.94z\"/><path d=\"M17.41 7.96l-1.37-1.37c-.4-.4-.92-.59-1.43-.59-.52 0-1.04.2-1.43.59L10.3 9.45l-7.72 7.72c-.78.78-.78 2.05 0 2.83L4 21.41c.39.39.9.59 1.41.59.51 0 1.02-.2 1.41-.59l7.78-7.78 2.81-2.81c.8-.78.8-2.07 0-2.86zM5.41 20L4 18.59l7.72-7.72 1.47 1.35L5.41 20z\"/>\n",
              "  </svg>\n",
              "      </button>\n",
              "      \n",
              "  <style>\n",
              "    .colab-df-container {\n",
              "      display:flex;\n",
              "      flex-wrap:wrap;\n",
              "      gap: 12px;\n",
              "    }\n",
              "\n",
              "    .colab-df-convert {\n",
              "      background-color: #E8F0FE;\n",
              "      border: none;\n",
              "      border-radius: 50%;\n",
              "      cursor: pointer;\n",
              "      display: none;\n",
              "      fill: #1967D2;\n",
              "      height: 32px;\n",
              "      padding: 0 0 0 0;\n",
              "      width: 32px;\n",
              "    }\n",
              "\n",
              "    .colab-df-convert:hover {\n",
              "      background-color: #E2EBFA;\n",
              "      box-shadow: 0px 1px 2px rgba(60, 64, 67, 0.3), 0px 1px 3px 1px rgba(60, 64, 67, 0.15);\n",
              "      fill: #174EA6;\n",
              "    }\n",
              "\n",
              "    [theme=dark] .colab-df-convert {\n",
              "      background-color: #3B4455;\n",
              "      fill: #D2E3FC;\n",
              "    }\n",
              "\n",
              "    [theme=dark] .colab-df-convert:hover {\n",
              "      background-color: #434B5C;\n",
              "      box-shadow: 0px 1px 3px 1px rgba(0, 0, 0, 0.15);\n",
              "      filter: drop-shadow(0px 1px 2px rgba(0, 0, 0, 0.3));\n",
              "      fill: #FFFFFF;\n",
              "    }\n",
              "  </style>\n",
              "\n",
              "      <script>\n",
              "        const buttonEl =\n",
              "          document.querySelector('#df-fe669af8-6000-4a97-993d-939678030bef button.colab-df-convert');\n",
              "        buttonEl.style.display =\n",
              "          google.colab.kernel.accessAllowed ? 'block' : 'none';\n",
              "\n",
              "        async function convertToInteractive(key) {\n",
              "          const element = document.querySelector('#df-fe669af8-6000-4a97-993d-939678030bef');\n",
              "          const dataTable =\n",
              "            await google.colab.kernel.invokeFunction('convertToInteractive',\n",
              "                                                     [key], {});\n",
              "          if (!dataTable) return;\n",
              "\n",
              "          const docLinkHtml = 'Like what you see? Visit the ' +\n",
              "            '<a target=\"_blank\" href=https://colab.research.google.com/notebooks/data_table.ipynb>data table notebook</a>'\n",
              "            + ' to learn more about interactive tables.';\n",
              "          element.innerHTML = '';\n",
              "          dataTable['output_type'] = 'display_data';\n",
              "          await google.colab.output.renderOutput(dataTable, element);\n",
              "          const docLink = document.createElement('div');\n",
              "          docLink.innerHTML = docLinkHtml;\n",
              "          element.appendChild(docLink);\n",
              "        }\n",
              "      </script>\n",
              "    </div>\n",
              "  </div>\n",
              "  "
            ]
          },
          "metadata": {},
          "execution_count": 17
        }
      ]
    },
    {
      "cell_type": "code",
      "source": [
        "# 첫 두 줄의 토플 점수와 SOP 값을 불러오기\n",
        "\n",
        "data.loc[0:1, ['TOEFL Score', 'SOP']]"
      ],
      "metadata": {
        "id": "MkIRTJuA-noc",
        "colab": {
          "base_uri": "https://localhost:8080/",
          "height": 0
        },
        "outputId": "de880a1a-a4b4-42dd-c0db-da8211e90b3d"
      },
      "execution_count": 18,
      "outputs": [
        {
          "output_type": "execute_result",
          "data": {
            "text/plain": [
              "   TOEFL Score  SOP\n",
              "0          118  4.5\n",
              "1          107  4.0"
            ],
            "text/html": [
              "\n",
              "  <div id=\"df-3630ccc2-0297-4bb5-81ef-9019b9e7ab5d\">\n",
              "    <div class=\"colab-df-container\">\n",
              "      <div>\n",
              "<style scoped>\n",
              "    .dataframe tbody tr th:only-of-type {\n",
              "        vertical-align: middle;\n",
              "    }\n",
              "\n",
              "    .dataframe tbody tr th {\n",
              "        vertical-align: top;\n",
              "    }\n",
              "\n",
              "    .dataframe thead th {\n",
              "        text-align: right;\n",
              "    }\n",
              "</style>\n",
              "<table border=\"1\" class=\"dataframe\">\n",
              "  <thead>\n",
              "    <tr style=\"text-align: right;\">\n",
              "      <th></th>\n",
              "      <th>TOEFL Score</th>\n",
              "      <th>SOP</th>\n",
              "    </tr>\n",
              "  </thead>\n",
              "  <tbody>\n",
              "    <tr>\n",
              "      <th>0</th>\n",
              "      <td>118</td>\n",
              "      <td>4.5</td>\n",
              "    </tr>\n",
              "    <tr>\n",
              "      <th>1</th>\n",
              "      <td>107</td>\n",
              "      <td>4.0</td>\n",
              "    </tr>\n",
              "  </tbody>\n",
              "</table>\n",
              "</div>\n",
              "      <button class=\"colab-df-convert\" onclick=\"convertToInteractive('df-3630ccc2-0297-4bb5-81ef-9019b9e7ab5d')\"\n",
              "              title=\"Convert this dataframe to an interactive table.\"\n",
              "              style=\"display:none;\">\n",
              "        \n",
              "  <svg xmlns=\"http://www.w3.org/2000/svg\" height=\"24px\"viewBox=\"0 0 24 24\"\n",
              "       width=\"24px\">\n",
              "    <path d=\"M0 0h24v24H0V0z\" fill=\"none\"/>\n",
              "    <path d=\"M18.56 5.44l.94 2.06.94-2.06 2.06-.94-2.06-.94-.94-2.06-.94 2.06-2.06.94zm-11 1L8.5 8.5l.94-2.06 2.06-.94-2.06-.94L8.5 2.5l-.94 2.06-2.06.94zm10 10l.94 2.06.94-2.06 2.06-.94-2.06-.94-.94-2.06-.94 2.06-2.06.94z\"/><path d=\"M17.41 7.96l-1.37-1.37c-.4-.4-.92-.59-1.43-.59-.52 0-1.04.2-1.43.59L10.3 9.45l-7.72 7.72c-.78.78-.78 2.05 0 2.83L4 21.41c.39.39.9.59 1.41.59.51 0 1.02-.2 1.41-.59l7.78-7.78 2.81-2.81c.8-.78.8-2.07 0-2.86zM5.41 20L4 18.59l7.72-7.72 1.47 1.35L5.41 20z\"/>\n",
              "  </svg>\n",
              "      </button>\n",
              "      \n",
              "  <style>\n",
              "    .colab-df-container {\n",
              "      display:flex;\n",
              "      flex-wrap:wrap;\n",
              "      gap: 12px;\n",
              "    }\n",
              "\n",
              "    .colab-df-convert {\n",
              "      background-color: #E8F0FE;\n",
              "      border: none;\n",
              "      border-radius: 50%;\n",
              "      cursor: pointer;\n",
              "      display: none;\n",
              "      fill: #1967D2;\n",
              "      height: 32px;\n",
              "      padding: 0 0 0 0;\n",
              "      width: 32px;\n",
              "    }\n",
              "\n",
              "    .colab-df-convert:hover {\n",
              "      background-color: #E2EBFA;\n",
              "      box-shadow: 0px 1px 2px rgba(60, 64, 67, 0.3), 0px 1px 3px 1px rgba(60, 64, 67, 0.15);\n",
              "      fill: #174EA6;\n",
              "    }\n",
              "\n",
              "    [theme=dark] .colab-df-convert {\n",
              "      background-color: #3B4455;\n",
              "      fill: #D2E3FC;\n",
              "    }\n",
              "\n",
              "    [theme=dark] .colab-df-convert:hover {\n",
              "      background-color: #434B5C;\n",
              "      box-shadow: 0px 1px 3px 1px rgba(0, 0, 0, 0.15);\n",
              "      filter: drop-shadow(0px 1px 2px rgba(0, 0, 0, 0.3));\n",
              "      fill: #FFFFFF;\n",
              "    }\n",
              "  </style>\n",
              "\n",
              "      <script>\n",
              "        const buttonEl =\n",
              "          document.querySelector('#df-3630ccc2-0297-4bb5-81ef-9019b9e7ab5d button.colab-df-convert');\n",
              "        buttonEl.style.display =\n",
              "          google.colab.kernel.accessAllowed ? 'block' : 'none';\n",
              "\n",
              "        async function convertToInteractive(key) {\n",
              "          const element = document.querySelector('#df-3630ccc2-0297-4bb5-81ef-9019b9e7ab5d');\n",
              "          const dataTable =\n",
              "            await google.colab.kernel.invokeFunction('convertToInteractive',\n",
              "                                                     [key], {});\n",
              "          if (!dataTable) return;\n",
              "\n",
              "          const docLinkHtml = 'Like what you see? Visit the ' +\n",
              "            '<a target=\"_blank\" href=https://colab.research.google.com/notebooks/data_table.ipynb>data table notebook</a>'\n",
              "            + ' to learn more about interactive tables.';\n",
              "          element.innerHTML = '';\n",
              "          dataTable['output_type'] = 'display_data';\n",
              "          await google.colab.output.renderOutput(dataTable, element);\n",
              "          const docLink = document.createElement('div');\n",
              "          docLink.innerHTML = docLinkHtml;\n",
              "          element.appendChild(docLink);\n",
              "        }\n",
              "      </script>\n",
              "    </div>\n",
              "  </div>\n",
              "  "
            ]
          },
          "metadata": {},
          "execution_count": 18
        }
      ]
    },
    {
      "cell_type": "code",
      "source": [
        "# 첫 두줄의 토플점수부터 CGPA까지 불러오기 2번째 열 ~ 6번째 열\n",
        "\n",
        "data.iloc[0:2,2:7]"
      ],
      "metadata": {
        "id": "8Q7GtsRg_MsB",
        "colab": {
          "base_uri": "https://localhost:8080/",
          "height": 0
        },
        "outputId": "223096e1-0407-44c9-89de-cef07495680d"
      },
      "execution_count": 19,
      "outputs": [
        {
          "output_type": "execute_result",
          "data": {
            "text/plain": [
              "   TOEFL Score  University Rating  SOP  LOR   CGPA\n",
              "0          118                  4  4.5   4.5  9.65\n",
              "1          107                  4  4.0   4.5  8.87"
            ],
            "text/html": [
              "\n",
              "  <div id=\"df-294b34ce-4472-4724-8068-bc4aae5b0d2e\">\n",
              "    <div class=\"colab-df-container\">\n",
              "      <div>\n",
              "<style scoped>\n",
              "    .dataframe tbody tr th:only-of-type {\n",
              "        vertical-align: middle;\n",
              "    }\n",
              "\n",
              "    .dataframe tbody tr th {\n",
              "        vertical-align: top;\n",
              "    }\n",
              "\n",
              "    .dataframe thead th {\n",
              "        text-align: right;\n",
              "    }\n",
              "</style>\n",
              "<table border=\"1\" class=\"dataframe\">\n",
              "  <thead>\n",
              "    <tr style=\"text-align: right;\">\n",
              "      <th></th>\n",
              "      <th>TOEFL Score</th>\n",
              "      <th>University Rating</th>\n",
              "      <th>SOP</th>\n",
              "      <th>LOR</th>\n",
              "      <th>CGPA</th>\n",
              "    </tr>\n",
              "  </thead>\n",
              "  <tbody>\n",
              "    <tr>\n",
              "      <th>0</th>\n",
              "      <td>118</td>\n",
              "      <td>4</td>\n",
              "      <td>4.5</td>\n",
              "      <td>4.5</td>\n",
              "      <td>9.65</td>\n",
              "    </tr>\n",
              "    <tr>\n",
              "      <th>1</th>\n",
              "      <td>107</td>\n",
              "      <td>4</td>\n",
              "      <td>4.0</td>\n",
              "      <td>4.5</td>\n",
              "      <td>8.87</td>\n",
              "    </tr>\n",
              "  </tbody>\n",
              "</table>\n",
              "</div>\n",
              "      <button class=\"colab-df-convert\" onclick=\"convertToInteractive('df-294b34ce-4472-4724-8068-bc4aae5b0d2e')\"\n",
              "              title=\"Convert this dataframe to an interactive table.\"\n",
              "              style=\"display:none;\">\n",
              "        \n",
              "  <svg xmlns=\"http://www.w3.org/2000/svg\" height=\"24px\"viewBox=\"0 0 24 24\"\n",
              "       width=\"24px\">\n",
              "    <path d=\"M0 0h24v24H0V0z\" fill=\"none\"/>\n",
              "    <path d=\"M18.56 5.44l.94 2.06.94-2.06 2.06-.94-2.06-.94-.94-2.06-.94 2.06-2.06.94zm-11 1L8.5 8.5l.94-2.06 2.06-.94-2.06-.94L8.5 2.5l-.94 2.06-2.06.94zm10 10l.94 2.06.94-2.06 2.06-.94-2.06-.94-.94-2.06-.94 2.06-2.06.94z\"/><path d=\"M17.41 7.96l-1.37-1.37c-.4-.4-.92-.59-1.43-.59-.52 0-1.04.2-1.43.59L10.3 9.45l-7.72 7.72c-.78.78-.78 2.05 0 2.83L4 21.41c.39.39.9.59 1.41.59.51 0 1.02-.2 1.41-.59l7.78-7.78 2.81-2.81c.8-.78.8-2.07 0-2.86zM5.41 20L4 18.59l7.72-7.72 1.47 1.35L5.41 20z\"/>\n",
              "  </svg>\n",
              "      </button>\n",
              "      \n",
              "  <style>\n",
              "    .colab-df-container {\n",
              "      display:flex;\n",
              "      flex-wrap:wrap;\n",
              "      gap: 12px;\n",
              "    }\n",
              "\n",
              "    .colab-df-convert {\n",
              "      background-color: #E8F0FE;\n",
              "      border: none;\n",
              "      border-radius: 50%;\n",
              "      cursor: pointer;\n",
              "      display: none;\n",
              "      fill: #1967D2;\n",
              "      height: 32px;\n",
              "      padding: 0 0 0 0;\n",
              "      width: 32px;\n",
              "    }\n",
              "\n",
              "    .colab-df-convert:hover {\n",
              "      background-color: #E2EBFA;\n",
              "      box-shadow: 0px 1px 2px rgba(60, 64, 67, 0.3), 0px 1px 3px 1px rgba(60, 64, 67, 0.15);\n",
              "      fill: #174EA6;\n",
              "    }\n",
              "\n",
              "    [theme=dark] .colab-df-convert {\n",
              "      background-color: #3B4455;\n",
              "      fill: #D2E3FC;\n",
              "    }\n",
              "\n",
              "    [theme=dark] .colab-df-convert:hover {\n",
              "      background-color: #434B5C;\n",
              "      box-shadow: 0px 1px 3px 1px rgba(0, 0, 0, 0.15);\n",
              "      filter: drop-shadow(0px 1px 2px rgba(0, 0, 0, 0.3));\n",
              "      fill: #FFFFFF;\n",
              "    }\n",
              "  </style>\n",
              "\n",
              "      <script>\n",
              "        const buttonEl =\n",
              "          document.querySelector('#df-294b34ce-4472-4724-8068-bc4aae5b0d2e button.colab-df-convert');\n",
              "        buttonEl.style.display =\n",
              "          google.colab.kernel.accessAllowed ? 'block' : 'none';\n",
              "\n",
              "        async function convertToInteractive(key) {\n",
              "          const element = document.querySelector('#df-294b34ce-4472-4724-8068-bc4aae5b0d2e');\n",
              "          const dataTable =\n",
              "            await google.colab.kernel.invokeFunction('convertToInteractive',\n",
              "                                                     [key], {});\n",
              "          if (!dataTable) return;\n",
              "\n",
              "          const docLinkHtml = 'Like what you see? Visit the ' +\n",
              "            '<a target=\"_blank\" href=https://colab.research.google.com/notebooks/data_table.ipynb>data table notebook</a>'\n",
              "            + ' to learn more about interactive tables.';\n",
              "          element.innerHTML = '';\n",
              "          dataTable['output_type'] = 'display_data';\n",
              "          await google.colab.output.renderOutput(dataTable, element);\n",
              "          const docLink = document.createElement('div');\n",
              "          docLink.innerHTML = docLinkHtml;\n",
              "          element.appendChild(docLink);\n",
              "        }\n",
              "      </script>\n",
              "    </div>\n",
              "  </div>\n",
              "  "
            ]
          },
          "metadata": {},
          "execution_count": 19
        }
      ]
    },
    {
      "cell_type": "markdown",
      "source": [
        "## 컬럼 이름 수정하기\n",
        "* 'Serial No.' : 'No.'\n",
        "* 'GRE Score' : 'GRE'\n",
        "* 'TOEFL Score' : 'TOEFL'\n",
        "* 'University Rating' : 'Univ.'\n",
        "* 'LOR ' : 'LOR'\n",
        "* 'Chance of Admit ' : 'Admit'"
      ],
      "metadata": {
        "id": "OFxC0P9pCJ5X"
      }
    },
    {
      "cell_type": "code",
      "source": [
        "data.head()"
      ],
      "metadata": {
        "colab": {
          "base_uri": "https://localhost:8080/",
          "height": 0
        },
        "id": "Bhzvz5y7QgR1",
        "outputId": "3c987a7b-00de-4710-9798-3e2312069abc"
      },
      "execution_count": 20,
      "outputs": [
        {
          "output_type": "execute_result",
          "data": {
            "text/plain": [
              "   Serial No.  GRE Score  TOEFL Score  University Rating  SOP  LOR   CGPA  \\\n",
              "0           1        337          118                  4  4.5   4.5  9.65   \n",
              "1           2        324          107                  4  4.0   4.5  8.87   \n",
              "2           3        316          104                  3  3.0   3.5  8.00   \n",
              "3           4        322          110                  3  3.5   2.5  8.67   \n",
              "4           5        314          103                  2  2.0   3.0  8.21   \n",
              "\n",
              "   Research  Chance of Admit   \n",
              "0         1              0.92  \n",
              "1         1              0.76  \n",
              "2         1              0.72  \n",
              "3         1              0.80  \n",
              "4         0              0.65  "
            ],
            "text/html": [
              "\n",
              "  <div id=\"df-51892106-0d7b-474b-8d28-fa1182904925\">\n",
              "    <div class=\"colab-df-container\">\n",
              "      <div>\n",
              "<style scoped>\n",
              "    .dataframe tbody tr th:only-of-type {\n",
              "        vertical-align: middle;\n",
              "    }\n",
              "\n",
              "    .dataframe tbody tr th {\n",
              "        vertical-align: top;\n",
              "    }\n",
              "\n",
              "    .dataframe thead th {\n",
              "        text-align: right;\n",
              "    }\n",
              "</style>\n",
              "<table border=\"1\" class=\"dataframe\">\n",
              "  <thead>\n",
              "    <tr style=\"text-align: right;\">\n",
              "      <th></th>\n",
              "      <th>Serial No.</th>\n",
              "      <th>GRE Score</th>\n",
              "      <th>TOEFL Score</th>\n",
              "      <th>University Rating</th>\n",
              "      <th>SOP</th>\n",
              "      <th>LOR</th>\n",
              "      <th>CGPA</th>\n",
              "      <th>Research</th>\n",
              "      <th>Chance of Admit</th>\n",
              "    </tr>\n",
              "  </thead>\n",
              "  <tbody>\n",
              "    <tr>\n",
              "      <th>0</th>\n",
              "      <td>1</td>\n",
              "      <td>337</td>\n",
              "      <td>118</td>\n",
              "      <td>4</td>\n",
              "      <td>4.5</td>\n",
              "      <td>4.5</td>\n",
              "      <td>9.65</td>\n",
              "      <td>1</td>\n",
              "      <td>0.92</td>\n",
              "    </tr>\n",
              "    <tr>\n",
              "      <th>1</th>\n",
              "      <td>2</td>\n",
              "      <td>324</td>\n",
              "      <td>107</td>\n",
              "      <td>4</td>\n",
              "      <td>4.0</td>\n",
              "      <td>4.5</td>\n",
              "      <td>8.87</td>\n",
              "      <td>1</td>\n",
              "      <td>0.76</td>\n",
              "    </tr>\n",
              "    <tr>\n",
              "      <th>2</th>\n",
              "      <td>3</td>\n",
              "      <td>316</td>\n",
              "      <td>104</td>\n",
              "      <td>3</td>\n",
              "      <td>3.0</td>\n",
              "      <td>3.5</td>\n",
              "      <td>8.00</td>\n",
              "      <td>1</td>\n",
              "      <td>0.72</td>\n",
              "    </tr>\n",
              "    <tr>\n",
              "      <th>3</th>\n",
              "      <td>4</td>\n",
              "      <td>322</td>\n",
              "      <td>110</td>\n",
              "      <td>3</td>\n",
              "      <td>3.5</td>\n",
              "      <td>2.5</td>\n",
              "      <td>8.67</td>\n",
              "      <td>1</td>\n",
              "      <td>0.80</td>\n",
              "    </tr>\n",
              "    <tr>\n",
              "      <th>4</th>\n",
              "      <td>5</td>\n",
              "      <td>314</td>\n",
              "      <td>103</td>\n",
              "      <td>2</td>\n",
              "      <td>2.0</td>\n",
              "      <td>3.0</td>\n",
              "      <td>8.21</td>\n",
              "      <td>0</td>\n",
              "      <td>0.65</td>\n",
              "    </tr>\n",
              "  </tbody>\n",
              "</table>\n",
              "</div>\n",
              "      <button class=\"colab-df-convert\" onclick=\"convertToInteractive('df-51892106-0d7b-474b-8d28-fa1182904925')\"\n",
              "              title=\"Convert this dataframe to an interactive table.\"\n",
              "              style=\"display:none;\">\n",
              "        \n",
              "  <svg xmlns=\"http://www.w3.org/2000/svg\" height=\"24px\"viewBox=\"0 0 24 24\"\n",
              "       width=\"24px\">\n",
              "    <path d=\"M0 0h24v24H0V0z\" fill=\"none\"/>\n",
              "    <path d=\"M18.56 5.44l.94 2.06.94-2.06 2.06-.94-2.06-.94-.94-2.06-.94 2.06-2.06.94zm-11 1L8.5 8.5l.94-2.06 2.06-.94-2.06-.94L8.5 2.5l-.94 2.06-2.06.94zm10 10l.94 2.06.94-2.06 2.06-.94-2.06-.94-.94-2.06-.94 2.06-2.06.94z\"/><path d=\"M17.41 7.96l-1.37-1.37c-.4-.4-.92-.59-1.43-.59-.52 0-1.04.2-1.43.59L10.3 9.45l-7.72 7.72c-.78.78-.78 2.05 0 2.83L4 21.41c.39.39.9.59 1.41.59.51 0 1.02-.2 1.41-.59l7.78-7.78 2.81-2.81c.8-.78.8-2.07 0-2.86zM5.41 20L4 18.59l7.72-7.72 1.47 1.35L5.41 20z\"/>\n",
              "  </svg>\n",
              "      </button>\n",
              "      \n",
              "  <style>\n",
              "    .colab-df-container {\n",
              "      display:flex;\n",
              "      flex-wrap:wrap;\n",
              "      gap: 12px;\n",
              "    }\n",
              "\n",
              "    .colab-df-convert {\n",
              "      background-color: #E8F0FE;\n",
              "      border: none;\n",
              "      border-radius: 50%;\n",
              "      cursor: pointer;\n",
              "      display: none;\n",
              "      fill: #1967D2;\n",
              "      height: 32px;\n",
              "      padding: 0 0 0 0;\n",
              "      width: 32px;\n",
              "    }\n",
              "\n",
              "    .colab-df-convert:hover {\n",
              "      background-color: #E2EBFA;\n",
              "      box-shadow: 0px 1px 2px rgba(60, 64, 67, 0.3), 0px 1px 3px 1px rgba(60, 64, 67, 0.15);\n",
              "      fill: #174EA6;\n",
              "    }\n",
              "\n",
              "    [theme=dark] .colab-df-convert {\n",
              "      background-color: #3B4455;\n",
              "      fill: #D2E3FC;\n",
              "    }\n",
              "\n",
              "    [theme=dark] .colab-df-convert:hover {\n",
              "      background-color: #434B5C;\n",
              "      box-shadow: 0px 1px 3px 1px rgba(0, 0, 0, 0.15);\n",
              "      filter: drop-shadow(0px 1px 2px rgba(0, 0, 0, 0.3));\n",
              "      fill: #FFFFFF;\n",
              "    }\n",
              "  </style>\n",
              "\n",
              "      <script>\n",
              "        const buttonEl =\n",
              "          document.querySelector('#df-51892106-0d7b-474b-8d28-fa1182904925 button.colab-df-convert');\n",
              "        buttonEl.style.display =\n",
              "          google.colab.kernel.accessAllowed ? 'block' : 'none';\n",
              "\n",
              "        async function convertToInteractive(key) {\n",
              "          const element = document.querySelector('#df-51892106-0d7b-474b-8d28-fa1182904925');\n",
              "          const dataTable =\n",
              "            await google.colab.kernel.invokeFunction('convertToInteractive',\n",
              "                                                     [key], {});\n",
              "          if (!dataTable) return;\n",
              "\n",
              "          const docLinkHtml = 'Like what you see? Visit the ' +\n",
              "            '<a target=\"_blank\" href=https://colab.research.google.com/notebooks/data_table.ipynb>data table notebook</a>'\n",
              "            + ' to learn more about interactive tables.';\n",
              "          element.innerHTML = '';\n",
              "          dataTable['output_type'] = 'display_data';\n",
              "          await google.colab.output.renderOutput(dataTable, element);\n",
              "          const docLink = document.createElement('div');\n",
              "          docLink.innerHTML = docLinkHtml;\n",
              "          element.appendChild(docLink);\n",
              "        }\n",
              "      </script>\n",
              "    </div>\n",
              "  </div>\n",
              "  "
            ]
          },
          "metadata": {},
          "execution_count": 20
        }
      ]
    },
    {
      "cell_type": "code",
      "source": [
        "# 컬럼 이름 수정하기\n",
        "\n",
        "data.rename(columns = {'Serial No.':'No.','GRE Score':'GRE','TOEFL Score':'TOEFL','University Rating':'Univ.','LOR ':'LOR','Chance of Admit ':'Admit'}, inplace = True)\n",
        "data.head()"
      ],
      "metadata": {
        "id": "Eb70ou52C2IW",
        "colab": {
          "base_uri": "https://localhost:8080/",
          "height": 0
        },
        "outputId": "fa737e8c-a094-42fa-96d5-6bc49a8425c5"
      },
      "execution_count": 21,
      "outputs": [
        {
          "output_type": "execute_result",
          "data": {
            "text/plain": [
              "   No.  GRE  TOEFL  Univ.  SOP  LOR  CGPA  Research  Admit\n",
              "0    1  337    118      4  4.5  4.5  9.65         1   0.92\n",
              "1    2  324    107      4  4.0  4.5  8.87         1   0.76\n",
              "2    3  316    104      3  3.0  3.5  8.00         1   0.72\n",
              "3    4  322    110      3  3.5  2.5  8.67         1   0.80\n",
              "4    5  314    103      2  2.0  3.0  8.21         0   0.65"
            ],
            "text/html": [
              "\n",
              "  <div id=\"df-4810bd34-9164-4497-9355-1ae282d13338\">\n",
              "    <div class=\"colab-df-container\">\n",
              "      <div>\n",
              "<style scoped>\n",
              "    .dataframe tbody tr th:only-of-type {\n",
              "        vertical-align: middle;\n",
              "    }\n",
              "\n",
              "    .dataframe tbody tr th {\n",
              "        vertical-align: top;\n",
              "    }\n",
              "\n",
              "    .dataframe thead th {\n",
              "        text-align: right;\n",
              "    }\n",
              "</style>\n",
              "<table border=\"1\" class=\"dataframe\">\n",
              "  <thead>\n",
              "    <tr style=\"text-align: right;\">\n",
              "      <th></th>\n",
              "      <th>No.</th>\n",
              "      <th>GRE</th>\n",
              "      <th>TOEFL</th>\n",
              "      <th>Univ.</th>\n",
              "      <th>SOP</th>\n",
              "      <th>LOR</th>\n",
              "      <th>CGPA</th>\n",
              "      <th>Research</th>\n",
              "      <th>Admit</th>\n",
              "    </tr>\n",
              "  </thead>\n",
              "  <tbody>\n",
              "    <tr>\n",
              "      <th>0</th>\n",
              "      <td>1</td>\n",
              "      <td>337</td>\n",
              "      <td>118</td>\n",
              "      <td>4</td>\n",
              "      <td>4.5</td>\n",
              "      <td>4.5</td>\n",
              "      <td>9.65</td>\n",
              "      <td>1</td>\n",
              "      <td>0.92</td>\n",
              "    </tr>\n",
              "    <tr>\n",
              "      <th>1</th>\n",
              "      <td>2</td>\n",
              "      <td>324</td>\n",
              "      <td>107</td>\n",
              "      <td>4</td>\n",
              "      <td>4.0</td>\n",
              "      <td>4.5</td>\n",
              "      <td>8.87</td>\n",
              "      <td>1</td>\n",
              "      <td>0.76</td>\n",
              "    </tr>\n",
              "    <tr>\n",
              "      <th>2</th>\n",
              "      <td>3</td>\n",
              "      <td>316</td>\n",
              "      <td>104</td>\n",
              "      <td>3</td>\n",
              "      <td>3.0</td>\n",
              "      <td>3.5</td>\n",
              "      <td>8.00</td>\n",
              "      <td>1</td>\n",
              "      <td>0.72</td>\n",
              "    </tr>\n",
              "    <tr>\n",
              "      <th>3</th>\n",
              "      <td>4</td>\n",
              "      <td>322</td>\n",
              "      <td>110</td>\n",
              "      <td>3</td>\n",
              "      <td>3.5</td>\n",
              "      <td>2.5</td>\n",
              "      <td>8.67</td>\n",
              "      <td>1</td>\n",
              "      <td>0.80</td>\n",
              "    </tr>\n",
              "    <tr>\n",
              "      <th>4</th>\n",
              "      <td>5</td>\n",
              "      <td>314</td>\n",
              "      <td>103</td>\n",
              "      <td>2</td>\n",
              "      <td>2.0</td>\n",
              "      <td>3.0</td>\n",
              "      <td>8.21</td>\n",
              "      <td>0</td>\n",
              "      <td>0.65</td>\n",
              "    </tr>\n",
              "  </tbody>\n",
              "</table>\n",
              "</div>\n",
              "      <button class=\"colab-df-convert\" onclick=\"convertToInteractive('df-4810bd34-9164-4497-9355-1ae282d13338')\"\n",
              "              title=\"Convert this dataframe to an interactive table.\"\n",
              "              style=\"display:none;\">\n",
              "        \n",
              "  <svg xmlns=\"http://www.w3.org/2000/svg\" height=\"24px\"viewBox=\"0 0 24 24\"\n",
              "       width=\"24px\">\n",
              "    <path d=\"M0 0h24v24H0V0z\" fill=\"none\"/>\n",
              "    <path d=\"M18.56 5.44l.94 2.06.94-2.06 2.06-.94-2.06-.94-.94-2.06-.94 2.06-2.06.94zm-11 1L8.5 8.5l.94-2.06 2.06-.94-2.06-.94L8.5 2.5l-.94 2.06-2.06.94zm10 10l.94 2.06.94-2.06 2.06-.94-2.06-.94-.94-2.06-.94 2.06-2.06.94z\"/><path d=\"M17.41 7.96l-1.37-1.37c-.4-.4-.92-.59-1.43-.59-.52 0-1.04.2-1.43.59L10.3 9.45l-7.72 7.72c-.78.78-.78 2.05 0 2.83L4 21.41c.39.39.9.59 1.41.59.51 0 1.02-.2 1.41-.59l7.78-7.78 2.81-2.81c.8-.78.8-2.07 0-2.86zM5.41 20L4 18.59l7.72-7.72 1.47 1.35L5.41 20z\"/>\n",
              "  </svg>\n",
              "      </button>\n",
              "      \n",
              "  <style>\n",
              "    .colab-df-container {\n",
              "      display:flex;\n",
              "      flex-wrap:wrap;\n",
              "      gap: 12px;\n",
              "    }\n",
              "\n",
              "    .colab-df-convert {\n",
              "      background-color: #E8F0FE;\n",
              "      border: none;\n",
              "      border-radius: 50%;\n",
              "      cursor: pointer;\n",
              "      display: none;\n",
              "      fill: #1967D2;\n",
              "      height: 32px;\n",
              "      padding: 0 0 0 0;\n",
              "      width: 32px;\n",
              "    }\n",
              "\n",
              "    .colab-df-convert:hover {\n",
              "      background-color: #E2EBFA;\n",
              "      box-shadow: 0px 1px 2px rgba(60, 64, 67, 0.3), 0px 1px 3px 1px rgba(60, 64, 67, 0.15);\n",
              "      fill: #174EA6;\n",
              "    }\n",
              "\n",
              "    [theme=dark] .colab-df-convert {\n",
              "      background-color: #3B4455;\n",
              "      fill: #D2E3FC;\n",
              "    }\n",
              "\n",
              "    [theme=dark] .colab-df-convert:hover {\n",
              "      background-color: #434B5C;\n",
              "      box-shadow: 0px 1px 3px 1px rgba(0, 0, 0, 0.15);\n",
              "      filter: drop-shadow(0px 1px 2px rgba(0, 0, 0, 0.3));\n",
              "      fill: #FFFFFF;\n",
              "    }\n",
              "  </style>\n",
              "\n",
              "      <script>\n",
              "        const buttonEl =\n",
              "          document.querySelector('#df-4810bd34-9164-4497-9355-1ae282d13338 button.colab-df-convert');\n",
              "        buttonEl.style.display =\n",
              "          google.colab.kernel.accessAllowed ? 'block' : 'none';\n",
              "\n",
              "        async function convertToInteractive(key) {\n",
              "          const element = document.querySelector('#df-4810bd34-9164-4497-9355-1ae282d13338');\n",
              "          const dataTable =\n",
              "            await google.colab.kernel.invokeFunction('convertToInteractive',\n",
              "                                                     [key], {});\n",
              "          if (!dataTable) return;\n",
              "\n",
              "          const docLinkHtml = 'Like what you see? Visit the ' +\n",
              "            '<a target=\"_blank\" href=https://colab.research.google.com/notebooks/data_table.ipynb>data table notebook</a>'\n",
              "            + ' to learn more about interactive tables.';\n",
              "          element.innerHTML = '';\n",
              "          dataTable['output_type'] = 'display_data';\n",
              "          await google.colab.output.renderOutput(dataTable, element);\n",
              "          const docLink = document.createElement('div');\n",
              "          docLink.innerHTML = docLinkHtml;\n",
              "          element.appendChild(docLink);\n",
              "        }\n",
              "      </script>\n",
              "    </div>\n",
              "  </div>\n",
              "  "
            ]
          },
          "metadata": {},
          "execution_count": 21
        }
      ]
    },
    {
      "cell_type": "markdown",
      "metadata": {
        "id": "dwxpg_-7zT8b"
      },
      "source": [
        "# 데이터 시각화 해보기"
      ]
    },
    {
      "cell_type": "markdown",
      "metadata": {
        "id": "Lp4Oh5Syzh4L"
      },
      "source": [
        "##시각화 라이브러리 복습"
      ]
    },
    {
      "cell_type": "code",
      "metadata": {
        "id": "HFMf7dwLzosl"
      },
      "source": [
        "# matplotlib.pyplot (plt) 임포트\n",
        "# seaborn (sns) 임포트\n",
        "\n",
        "\n",
        "import matplotlib.pyplot as plt\n",
        "import seaborn as sns\n"
      ],
      "execution_count": 22,
      "outputs": []
    },
    {
      "cell_type": "code",
      "source": [
        "# 한글 폰트가 깨지지 않도록 폰트 패밀리 지정\n",
        "plt.rc('font', family='NanumBarunGothic')"
      ],
      "metadata": {
        "id": "eIiDAP_2eZjV"
      },
      "execution_count": 23,
      "outputs": []
    },
    {
      "cell_type": "markdown",
      "metadata": {
        "id": "mtvbHihHSpU0"
      },
      "source": [
        "## 수치형 데이터 시각화하기\n",
        "수치형 데이터란 키, 몸무게, 가격, 판매량 등 수치 형태로 측정되는 데이터"
      ]
    },
    {
      "cell_type": "markdown",
      "source": [
        "### GRE 점수는 대학원 입학에 영향을 줄까?"
      ],
      "metadata": {
        "id": "ec8mB979Nz-o"
      }
    },
    {
      "cell_type": "code",
      "metadata": {
        "id": "36J3KFgUv1dW",
        "colab": {
          "base_uri": "https://localhost:8080/",
          "height": 280
        },
        "outputId": "4d8896d1-8013-419f-b83b-a329e13fa45e"
      },
      "source": [
        "# GRE 분포 히스토그램 그리기\n",
        "\n",
        "plt.title('GRE 분포')\n",
        "\n",
        "# data 중 'GRE' 열의 값을 히스토그램으로 그리기\n",
        "\n",
        "plt.hist(x=data['GRE'])\n",
        "\n",
        "plt.show()"
      ],
      "execution_count": 24,
      "outputs": [
        {
          "output_type": "display_data",
          "data": {
            "text/plain": [
              "<Figure size 432x288 with 1 Axes>"
            ],
            "image/png": "[encoded data removed]"
          },
          "metadata": {
            "needs_background": "light"
          }
        }
      ]
    },
    {
      "cell_type": "markdown",
      "source": [
        "* GRE - Admit 산점도"
      ],
      "metadata": {
        "id": "eEyw9Mt3Pkho"
      }
    },
    {
      "cell_type": "code",
      "source": [
        "# 타이틀\n",
        "plt.title('GRE - Admit 상관 관계')\n",
        "\n",
        "# 산점도 그리기 1번째 방법\n",
        "#plt.scatter(x = data['GRE'], y = data['Admit'])\n",
        "\n",
        "\n",
        "# 산점도 그리기 2번째 방법\n",
        "plt.scatter(x = 'GRE', y = 'Admit', data = data)\n",
        "\n",
        "\n",
        "\n",
        "# x축 이름\n",
        "plt.xlabel('GRE')\n",
        "\n",
        "# y축 이름\n",
        "plt.ylabel('Admit')\n",
        "\n",
        "plt.show()"
      ],
      "metadata": {
        "id": "fwev3V-UPoqS",
        "colab": {
          "base_uri": "https://localhost:8080/",
          "height": 294
        },
        "outputId": "daacced4-7ef0-4246-a52d-35200e76db36"
      },
      "execution_count": 29,
      "outputs": [
        {
          "output_type": "display_data",
          "data": {
            "text/plain": [
              "<Figure size 432x288 with 1 Axes>"
            ],
            "image/png": "[encoded data removed]"
          },
          "metadata": {
            "needs_background": "light"
          }
        }
      ]
    },
    {
      "cell_type": "markdown",
      "source": [
        "간단 결론 : 입학 가능성에 GRE 영향이 꽤 크게 작용하는 것으로 보임"
      ],
      "metadata": {
        "id": "GgObqa9tQRt7"
      }
    },
    {
      "cell_type": "markdown",
      "source": [
        "### 토플 점수는 대학원 입학에 영향을 줄까?\n",
        "토플 점수 분포 확인 (막대 그래프, 곡선 그래프)"
      ],
      "metadata": {
        "id": "ofx4X_h8TSN-"
      }
    },
    {
      "cell_type": "code",
      "source": [
        "plt.title('TOEFL 점수 분포')\n",
        "plt.hist(x = data['TOEFL'])\n",
        "plt.show()"
      ],
      "metadata": {
        "id": "rnoJaGi4Tjyd",
        "colab": {
          "base_uri": "https://localhost:8080/",
          "height": 280
        },
        "outputId": "e943b713-9cfe-439b-b2a0-6bd621d0d3ec"
      },
      "execution_count": 30,
      "outputs": [
        {
          "output_type": "display_data",
          "data": {
            "text/plain": [
              "<Figure size 432x288 with 1 Axes>"
            ],
            "image/png": "[encoded data removed]"
          },
          "metadata": {
            "needs_background": "light"
          }
        }
      ]
    },
    {
      "cell_type": "code",
      "source": [
        "# seaborn의 kdeplot을 사용해보자 (x축과 y축 이름도 자동으로 보여준다)\n",
        "\n",
        "plt.title('TOEFL 점수 분포')\n",
        "\n",
        "# TOEFL 분포를 kdeplot으로 그려보기\n",
        "\n",
        "sns.kdeplot(x='TOEFL', data=data)\n",
        "\n",
        "plt.show()"
      ],
      "metadata": {
        "id": "kfihPIS1TuB9",
        "colab": {
          "base_uri": "https://localhost:8080/",
          "height": 294
        },
        "outputId": "1bb33a6b-1a3b-4d71-aae9-ee4ef01bf82b"
      },
      "execution_count": 31,
      "outputs": [
        {
          "output_type": "display_data",
          "data": {
            "text/plain": [
              "<Figure size 432x288 with 1 Axes>"
            ],
            "image/png": "[encoded data removed]"
          },
          "metadata": {
            "needs_background": "light"
          }
        }
      ]
    },
    {
      "cell_type": "code",
      "source": [
        "# seaborn의 distplot을 사용해보자 (여러 옵션들)\n",
        "\n",
        "plt.title('TOEFL 점수 분포')\n",
        "sns.distplot(data['TOEFL'], hist=True, kde=True, rug = True)\n",
        "plt.show()"
      ],
      "metadata": {
        "id": "11uLChKXUxaB",
        "colab": {
          "base_uri": "https://localhost:8080/",
          "height": 294
        },
        "outputId": "b731756a-b0eb-413d-8b01-01b693398c37"
      },
      "execution_count": 33,
      "outputs": [
        {
          "output_type": "display_data",
          "data": {
            "text/plain": [
              "<Figure size 432x288 with 1 Axes>"
            ],
            "image/png": "[encoded data removed]"
          },
          "metadata": {
            "needs_background": "light"
          }
        }
      ]
    },
    {
      "cell_type": "markdown",
      "source": [
        "* 토플 점수 - Admit 산점도"
      ],
      "metadata": {
        "id": "VEr-IoshTIlv"
      }
    },
    {
      "cell_type": "code",
      "source": [
        "# 타이틀\n",
        "plt.title('TOEFL - Admit 상관 관계')\n",
        "\n",
        "# 산점도 그리기\n",
        "plt.scatter(x='TOEFL', y='Admit', data=data)\n",
        "\n",
        "\n",
        "# x축 이름\n",
        "plt.xlabel('TOEFL')\n",
        "\n",
        "# y축 이름\n",
        "plt.ylabel('Admit')\n",
        "\n",
        "plt.show()"
      ],
      "metadata": {
        "id": "DPV56iK6ULDe",
        "colab": {
          "base_uri": "https://localhost:8080/",
          "height": 294
        },
        "outputId": "3d2d9977-de79-4109-904e-6c3a6d71b02e"
      },
      "execution_count": 34,
      "outputs": [
        {
          "output_type": "display_data",
          "data": {
            "text/plain": [
              "<Figure size 432x288 with 1 Axes>"
            ],
            "image/png": "[encoded data removed]"
          },
          "metadata": {
            "needs_background": "light"
          }
        }
      ]
    },
    {
      "cell_type": "markdown",
      "source": [
        "\n",
        "간단 결론 : 큰 흐름은 있으나, 토플 점수 115점 아래에서는 예외 값도 많이 보임"
      ],
      "metadata": {
        "id": "liYnNkvTUdqt"
      }
    },
    {
      "cell_type": "markdown",
      "source": [
        "### 미션 7\n",
        "#### 대학교 학점은 대학원 입학에 영향을 줄까?\n",
        "CGPA 점수 분포"
      ],
      "metadata": {
        "id": "_7pExLqXVmdx"
      }
    },
    {
      "cell_type": "code",
      "source": [
        "# 타이틀\n",
        "plt.title('CGPA 점수 분포')\n",
        "\n",
        "# distplot 그래프 그리기\n",
        "\n",
        "\n",
        "plt.show()"
      ],
      "metadata": {
        "id": "T20MHE2ZWA-Z"
      },
      "execution_count": null,
      "outputs": []
    },
    {
      "cell_type": "code",
      "source": [
        "# 타이틀\n",
        "plt.title('CGPA - Admit 상관 관계')\n",
        "\n",
        "# 산점도 그리기\n",
        "\n",
        "\n",
        "# x축 이름\n",
        "plt.xlabel('CGPA')\n",
        "\n",
        "# y축 이름\n",
        "plt.ylabel('Admit')\n",
        "\n",
        "plt.show()"
      ],
      "metadata": {
        "id": "ZlPpYb5yV1dr"
      },
      "execution_count": null,
      "outputs": []
    },
    {
      "cell_type": "code",
      "source": [
        "# 타이틀\n",
        "plt.title('CGPA - Admit 상관 관계')\n",
        "\n",
        "# 산점도와 직선 함께 그리기 (regplot)\n",
        "\n",
        "\n",
        "# x축 이름\n",
        "plt.xlabel('CGPA')\n",
        "\n",
        "# y축 이름\n",
        "plt.ylabel('Admit')\n",
        "\n",
        "plt.show()"
      ],
      "metadata": {
        "id": "P8XIBQwJWFCP"
      },
      "execution_count": null,
      "outputs": []
    },
    {
      "cell_type": "markdown",
      "source": [
        "간단 결론 : 대학교 학점은 대학원 입학과 관계가 있다."
      ],
      "metadata": {
        "id": "BtpkNf2K2vNR"
      }
    },
    {
      "cell_type": "markdown",
      "metadata": {
        "id": "2n9ZcCO1avHL"
      },
      "source": [
        "## 범주형 데이터 시각화하기\n",
        "혈액형, 색깔, 성별 등과 같이 몇 개의 범주로 구분되는 데이터\n"
      ]
    },
    {
      "cell_type": "markdown",
      "source": [
        "### 대학교 레벨은 대학원 입학에 영향을 줄까?"
      ],
      "metadata": {
        "id": "CEB5onCgYzgv"
      }
    },
    {
      "cell_type": "code",
      "metadata": {
        "id": "yhtKu38KwZJ9"
      },
      "source": [
        "# 범주형 데이터 rugplot 그려보기\n",
        "\n",
        "plt.title('Univ.분포')\n",
        "\n",
        "# 대학교 레벨의 범주를 rugplot으로 확인하기\n",
        "\n",
        "\n",
        "plt.show()"
      ],
      "execution_count": null,
      "outputs": []
    },
    {
      "cell_type": "markdown",
      "source": [
        "아무것도 없는 것 같지만.. 데이터의 위치를 x축 위에 작은 선분으로 보여준다. <br>\n",
        "그런데, Y축 마이너스 표기가 보이지 않는다. 아래 코드를 통해 해결해준다."
      ],
      "metadata": {
        "id": "yhgAf_aVZUfX"
      }
    },
    {
      "cell_type": "code",
      "source": [
        "# 마이너스 표기 깨짐 현상 해결\n",
        "plt.rc('axes', unicode_minus = False)"
      ],
      "metadata": {
        "id": "Pj0EZcdAZZ2q"
      },
      "execution_count": null,
      "outputs": []
    },
    {
      "cell_type": "code",
      "source": [
        "# distplot으로 범주형 데이터 표기하기\n",
        "plt.title('Univ.분포')\n",
        "\n",
        "sns.________(x = data['Univ.'], hist = True, kde = True, rug = True) # 옵션 값을 바꿔보자\n",
        "\n",
        "plt.show()"
      ],
      "metadata": {
        "id": "h7TykiPqZJU0"
      },
      "execution_count": null,
      "outputs": []
    },
    {
      "cell_type": "code",
      "source": [
        "# countplot으로 범주형 데이터의 개수 알아보기\n",
        "plt.title('Univ. 분포')\n",
        "\n",
        "sns.__________(x = data['Univ.'])\n",
        "\n",
        "plt.show()"
      ],
      "metadata": {
        "id": "IPuxePYmaP7C"
      },
      "execution_count": null,
      "outputs": []
    },
    {
      "cell_type": "code",
      "source": [
        "# boxplot으로 범주형 데이터의 분포 알아보기\n",
        "\n",
        "plt.title('Univ. - Admin 상관 관계')\n",
        "\n",
        "sns._______(x = 'Univ.', y = 'Admit', data=data)\n",
        "\n",
        "plt.show()"
      ],
      "metadata": {
        "id": "HxSl3rSzan61"
      },
      "execution_count": null,
      "outputs": []
    },
    {
      "cell_type": "markdown",
      "source": [
        "데이터가 많이 모여있는 곳은 박스로, 조금 모여 있는 곳은 선으로, 특이값은 점으로 표현됨 <br><br>\n",
        "간단 결론 : 대학원 레벨이 높을 수록 입학 가능성이 높아지는 추이를 보임"
      ],
      "metadata": {
        "id": "f9hf0ItFavyC"
      }
    },
    {
      "cell_type": "markdown",
      "source": [
        "### 학업 계획서 점수는 대학원 입학에 영향을 줄까?"
      ],
      "metadata": {
        "id": "u9uWx3v9bxqR"
      }
    },
    {
      "cell_type": "code",
      "source": [
        "# countplot으로 범주형 데이터의 개수 알아보기\n",
        "plt.title('SOP count')\n",
        "\n",
        "sns.________(x = data[' '])\n",
        "\n",
        "plt.show()"
      ],
      "metadata": {
        "id": "Bio5IILBcAoS"
      },
      "execution_count": null,
      "outputs": []
    },
    {
      "cell_type": "code",
      "source": [
        "# boxplot으로 범주형 데이터의 상관관계 알아보기\n",
        "plt.title('\bSOP - Admin 상관 관계')\n",
        "\n",
        "sns._____(x = ' ', y = ' ', data=data)\n",
        "\n",
        "plt.show()"
      ],
      "metadata": {
        "id": "DK_UjHNQcJHk"
      },
      "execution_count": null,
      "outputs": []
    },
    {
      "cell_type": "code",
      "source": [
        "# barplot으로 범주형 데이터의 상관관계 알아보기\n",
        "plt.title('\bSOP - Admin 상관 관계')\n",
        "\n",
        "sns._______(x = 'SOP', y = 'Admit', data=data)\n",
        "\n",
        "plt.show()"
      ],
      "metadata": {
        "id": "rOupTPpdcUNv"
      },
      "execution_count": null,
      "outputs": []
    },
    {
      "cell_type": "markdown",
      "source": [
        "막대그래프의 높이는 평균 값이며, 굵은 검정색 세로 선은 평균에서부터 데이터 편차를 의미함 <br>\n",
        "검정선이 길수록 SOP값별로 평균값 기준으로 데이터의 편차가 크다는 뜻 <br><br>\n",
        "간단 결론 : 지원서 서류 점수 1.5점 이하일 때는 큰 영향이 없으며 2.0점 이상일 때는 높을 수록 대학원 입학 가능성이 높아짐"
      ],
      "metadata": {
        "id": "tgMvXmyucaQS"
      }
    },
    {
      "cell_type": "markdown",
      "source": [
        "### 미션 8\n",
        "#### 추천서 점수는 대학원 입학에 영향을 줄까?"
      ],
      "metadata": {
        "id": "5-41GqwceKyZ"
      }
    },
    {
      "cell_type": "code",
      "source": [
        "# LOR 분포를 나타내보자\n",
        "\n",
        "\n",
        "\n"
      ],
      "metadata": {
        "id": "glTRdImYePdc"
      },
      "execution_count": null,
      "outputs": []
    },
    {
      "cell_type": "code",
      "source": [
        "# LOR - Admit 상관 관계를 나타내보자\n",
        "\n",
        "\n",
        "\n"
      ],
      "metadata": {
        "id": "2vEh-ipKeZ5d"
      },
      "execution_count": null,
      "outputs": []
    },
    {
      "cell_type": "markdown",
      "source": [
        "간단 결론 : 추천서 점수가 높을 수록 대학원 입학 확률이 점차 높아진다."
      ],
      "metadata": {
        "id": "Lx5keEAhaoD_"
      }
    },
    {
      "cell_type": "markdown",
      "source": [
        "##### boxplot의 단점을 보완해주는 violinplot을 그려보자!"
      ],
      "metadata": {
        "id": "21QbsBY4fYNy"
      }
    },
    {
      "cell_type": "code",
      "source": [
        "# violinplot으로 알아보는 LOR - Admit 상관 관계\n",
        "plt.title('\bLOR - Admin 상관 관계')\n",
        "_________(x = 'LOR', y = 'Admit', data=data)\n",
        "plt.show()"
      ],
      "metadata": {
        "id": "2qegHey3fXdh"
      },
      "execution_count": null,
      "outputs": []
    },
    {
      "cell_type": "code",
      "source": [
        "# violinplot으로 알아보는 Research - Admit 상관 관계\n",
        "plt.title('\bResearch - Admin 상관 관계')\n",
        "_________(x = 'Research', y = 'Admit', data=data)\n",
        "plt.show()"
      ],
      "metadata": {
        "id": "z4AvSOO_fumi"
      },
      "execution_count": null,
      "outputs": []
    },
    {
      "cell_type": "markdown",
      "source": [
        "##### violinplot에서 면이 아닌 점으로 분포를 알아보는 swarmplot이라는 그래프 유형"
      ],
      "metadata": {
        "id": "Qxf7YS3UgF2v"
      }
    },
    {
      "cell_type": "code",
      "source": [
        "# swarmplot으로 알아보는 Research - Admit 상관 관계\n",
        "plt.title('\bResearch - Admin 상관 관계')\n",
        "_________(x = 'Research', y = 'Admit', data=data)\n",
        "plt.show()"
      ],
      "metadata": {
        "id": "to77q8t5gP8P"
      },
      "execution_count": null,
      "outputs": []
    },
    {
      "cell_type": "markdown",
      "metadata": {
        "id": "sEaaY_4zQMmR"
      },
      "source": [
        "## 데이터 상관관계 확인하기"
      ]
    },
    {
      "cell_type": "code",
      "metadata": {
        "id": "Q7XO0qWZwoj2"
      },
      "source": [
        "# heatmap\n",
        "\n",
        "\n",
        "# seaborn의 heatmap 메서드 (각 feature 간의 상관관계를 보여주고, 숫자도 함께 보여준다.)\n",
        "\n",
        "\n",
        "# 그래프 띄우기\n",
        "\n"
      ],
      "execution_count": null,
      "outputs": []
    },
    {
      "cell_type": "code",
      "source": [
        "# pairplot\n",
        "\n",
        "\n",
        "\n"
      ],
      "metadata": {
        "id": "oWuYQN2FYEWN"
      },
      "execution_count": null,
      "outputs": []
    },
    {
      "cell_type": "markdown",
      "source": [
        "## 간단한 인사이트를 도출해보자\n",
        "* 각 feature별 상관관계 그래프를 다시 소화해본다.\n",
        "* heatmap을 그려 한눈에 상관관계를 숫자로 확인한다.\n",
        "* 간단한 결론을 몇 가지 적어본다.\n"
      ],
      "metadata": {
        "id": "6dFr1ocli4yK"
      }
    },
    {
      "cell_type": "code",
      "source": [],
      "metadata": {
        "id": "YMidalj74UhA"
      },
      "execution_count": null,
      "outputs": []
    },
    {
      "cell_type": "markdown",
      "metadata": {
        "id": "5njoYbU2eTk5"
      },
      "source": [
        "# 데이터 전처리"
      ]
    },
    {
      "cell_type": "markdown",
      "metadata": {
        "id": "6gr0qx9CeaPp"
      },
      "source": [
        "## CGPA 데이터 이상치 제거하기"
      ]
    },
    {
      "cell_type": "code",
      "source": [
        "# 2 sigma 이상치 제거 함수 정의\n",
        "def remove_outliers_sigma(df, column_name):\n",
        "  # 평균값 +- 표준편자 * 2\n",
        "  lower = df[column_name]._______ - (df[column_name]._____*2)\n",
        "  upper = df[column_name]._______ + (df[column_name]._____*2)\n",
        "\n",
        "  # min ~ max 안에 포함되는 데이터만 저장\n",
        "  removed_outliers = df[column_name].between(lower, upper)\n",
        "\n",
        "  # 기존 데이터 사이즈와 이상치 제거 후 데이터 사이즈 비교\n",
        "  bf  = df[column_name].size\n",
        "  print(str(df[column_name][removed_outliers].size) + \"/\" + str(bf) + \" data points remain.\") \n",
        "  \n",
        "  # 전체 데이터에서 이상치에 해당하는 값만 임시저장\n",
        "  index_names = df[~removed_outliers].index \n",
        "\n",
        "  # 이상치 인덱스를 제거한 데이터프레임 반환\n",
        "  return df.drop(index_names)"
      ],
      "metadata": {
        "id": "9oTN0_JY4pIl"
      },
      "execution_count": null,
      "outputs": []
    },
    {
      "cell_type": "code",
      "source": [
        "# IQR 이상치 제거 함수 정의\n",
        "# 0.25, 0.75를 입력하여 사용할 예정 \n",
        "\n",
        "def remove_outliers_iqr15(df,column_name,lower,upper):\n",
        "    iqr = abs(df[column_name].__________(lower) - df[column_name]._______(upper))\n",
        "\n",
        "    # print(f\"max = {df[column_name].quantile(upper) + iqr*1.5}\")\n",
        "    # print(f\"min = {df[column_name].quantile(lower) - iqr*1.5}\")\n",
        "    removed_outliers = df[column_name].between(df[column_name].quantile(lower) - iqr*1.5, df[column_name].quantile(upper) + iqr*1.5)\n",
        "    bf  = df[column_name].size\n",
        "    \n",
        "    print(str(df[column_name][removed_outliers].size) + \"/\" + str(bf) + \" data points remain.\") \n",
        "    index_names = df[~removed_outliers].index \n",
        "    return df.drop(index_names)"
      ],
      "metadata": {
        "id": "ky1ywmHh8uYb"
      },
      "execution_count": null,
      "outputs": []
    },
    {
      "cell_type": "code",
      "source": [
        "# 2 sigma 이상치 제거 함수 호출\n",
        "sigma_data = _______________(data, 'CGPA')\n",
        "\n",
        "\n",
        "# IQR 이상치 제거 함수 호출\n",
        "iqr15_data = _______________(data,'CGPA', 0.25, 0.75)"
      ],
      "metadata": {
        "id": "Kr46TB-2BWmY"
      },
      "execution_count": null,
      "outputs": []
    },
    {
      "cell_type": "markdown",
      "source": [
        "* 왜 iqr 이상치 제거가 잘 되지 않았을까??"
      ],
      "metadata": {
        "id": "f7Xx_f4QCnW_"
      }
    },
    {
      "cell_type": "code",
      "source": [
        "# 정의해주었던 함수에서 max값과 min값을 출력해주는 코드를 추가하고\n",
        "# 다시 함수를 호출해본 다음 데이터 값 자체의 최대, 최소 값과 비교해보자\n",
        "\n",
        "iqr15_data = remove_outliers_iqr15(data,'CGPA', 0.25, 0.75)"
      ],
      "metadata": {
        "id": "mjaE7Su3DRmv"
      },
      "execution_count": null,
      "outputs": []
    },
    {
      "cell_type": "code",
      "source": [
        "data.describe()"
      ],
      "metadata": {
        "id": "AdpE-x4iC4bE"
      },
      "execution_count": null,
      "outputs": []
    },
    {
      "cell_type": "markdown",
      "source": [
        "* 모든 데이터가 정상 범위 안에 들어온 것이다. <br>\n",
        "지금은 데이터 셋 크기 자체가 작으므로 이상치를 제거하지 않는 것이 더 좋다. <br>\n",
        "나중에 1만개 이상의 더 크고 무거운 데이터를 다루게 된다면 그 때 위 방법을 활용하도록 하자."
      ],
      "metadata": {
        "id": "BMQeTnulD6mP"
      }
    },
    {
      "cell_type": "markdown",
      "metadata": {
        "id": "J-P31znSqpDY"
      },
      "source": [
        "## 미션 9\n",
        "#### TOEFL 데이터 이상치 제거하기\n",
        "* 2Sigma\n",
        "* IQR x 1.5 <BR>\n",
        "TOEFL 이상치 제거하여, 이상치 제거 전/후 TOEFL 데이터 분포 차이 확인하기\n",
        "\n"
      ]
    },
    {
      "cell_type": "code",
      "source": [
        "# 2Sigma\n",
        "toefl_sigma = "
      ],
      "metadata": {
        "id": "5nbVkRSuFVcQ"
      },
      "execution_count": null,
      "outputs": []
    },
    {
      "cell_type": "code",
      "source": [
        "# IQR x 1.5\n",
        "toefl_iqr15 = "
      ],
      "metadata": {
        "id": "JFY4BrclFbnC"
      },
      "execution_count": null,
      "outputs": []
    },
    {
      "cell_type": "code",
      "source": [
        "# 타이틀 - TOEFL 이상치 제거 전 점수 분포\n",
        "plt.title('TOEFL 이상치 제거 전 점수 분포')\n",
        "\n",
        "# kdeplot 그래프\n",
        "\n",
        "\n",
        "# 그래프 출력\n",
        "plt.show()"
      ],
      "metadata": {
        "id": "RSx711LXFefT"
      },
      "execution_count": null,
      "outputs": []
    },
    {
      "cell_type": "code",
      "source": [
        "# 타이틀 - TOEFL Sigma 이상치 제거 후 점수 분포\n",
        "plt.title('TOEFL Sigma 이상치 제거 후 점수 분포')\n",
        "\n",
        "# kdeplot 그래프\n",
        "\n",
        "\n",
        "# 그래프 출력\n",
        "plt.show()"
      ],
      "metadata": {
        "id": "Mna2HHAxFfyv"
      },
      "execution_count": null,
      "outputs": []
    },
    {
      "cell_type": "code",
      "source": [
        "# 타이틀 - TOEFL IQR x 1.5 이상치 제거 후 점수 분포\n",
        "plt.title('TOEFL IQR x 1.5 이상치 제거 후 점수 분포')\n",
        "\n",
        "# kdeplot 그래프\n",
        "\n",
        "\n",
        "# 그래프 출력\n",
        "plt.show()"
      ],
      "metadata": {
        "id": "BahxHEEqFknu"
      },
      "execution_count": null,
      "outputs": []
    },
    {
      "cell_type": "markdown",
      "metadata": {
        "id": "mXXMXzSMNp_2"
      },
      "source": [
        "## Feature Selection"
      ]
    },
    {
      "cell_type": "markdown",
      "source": [
        "8개의 feature 중 무엇을 남기고, 무엇을 삭제해야 할까?\n",
        "* No. GRE TOEFL Univ. SOP LOR CGPA Research // Admit"
      ],
      "metadata": {
        "id": "Rpg6LuVNMYbg"
      }
    },
    {
      "cell_type": "markdown",
      "source": [
        "### Serial No. 열 삭제하기"
      ],
      "metadata": {
        "id": "7RqNIyirMidX"
      }
    },
    {
      "cell_type": "code",
      "source": [
        "# Serial No. 열 삭제하기\n",
        "edited = data.______(columns = ['No.'])\n",
        "edited.head()"
      ],
      "metadata": {
        "id": "xepOI6K8CR08"
      },
      "execution_count": null,
      "outputs": []
    },
    {
      "cell_type": "code",
      "source": [
        "# 원본데이터 확인해보기\n",
        "data.head()"
      ],
      "metadata": {
        "id": "gz1_2LUu-kc_"
      },
      "execution_count": null,
      "outputs": []
    },
    {
      "cell_type": "code",
      "source": [
        "# 원본 데이터에서 바로 삭제하기\n",
        "data.drop(columns = ['No.'], inplace = )\n",
        "data.head()"
      ],
      "metadata": {
        "id": "DqjKhOrrCpMw"
      },
      "execution_count": null,
      "outputs": []
    },
    {
      "cell_type": "markdown",
      "metadata": {
        "id": "RDzixwNsNuqp"
      },
      "source": [
        "## 숫자 데이터 표준화하기"
      ]
    },
    {
      "cell_type": "code",
      "source": [
        "# 숫자 데이터를 표준화 하기 전 임시로 분리\n",
        "\n",
        "feature_num = ['GRE', 'TOEFL', 'Univ.', 'SOP', 'LOR', 'CGPA']\n",
        "feature = ['Research']"
      ],
      "metadata": {
        "id": "wBOpedBtMzFt"
      },
      "execution_count": null,
      "outputs": []
    },
    {
      "cell_type": "code",
      "metadata": {
        "id": "042xTvA3xicv"
      },
      "source": [
        "from sklearn.preprocessing import StandardScaler\n",
        "# feature의 값들이 표준정규분포가 되도록 평균이 0 표준편차가 1이 되도록 변환해준다\n",
        "\n",
        "# scaler 생성\n",
        "scaler = \n",
        "\n",
        "scaler._____(data[feature_num]) # 스케일러에게 표준화해야하는 데이터가 무엇인지 알려줌\n",
        "\n",
        "X_num = scaler.________(data[feature_num]) # 정규분포로 변환한 데이터를 반환해서 새 변수에 저장\n",
        "\n",
        "# X_num은 리스트이므로 데이터프레임 형태로 변환\n",
        "X_num = pd.DataFrame(data = X_num, index = data[feature_num].index, columns = data[feature_num].columns)\n",
        "\n",
        "# Research 다시 합치기\n",
        "X = pd.concat([X_num, data[feature]], axis = 1) # axis =1 이니까 행이 아닌, 열로 이어붙인다.\n",
        "\n",
        "# 예측해야 하는 데이터는 따로 저장\n",
        "Y = data['Admit']"
      ],
      "execution_count": null,
      "outputs": []
    },
    {
      "cell_type": "code",
      "source": [
        "X.head()"
      ],
      "metadata": {
        "id": "t5dozld6JdKD"
      },
      "execution_count": null,
      "outputs": []
    },
    {
      "cell_type": "markdown",
      "metadata": {
        "id": "A0OQmsBmN6QY"
      },
      "source": [
        "## 카테고리 데이터 dummy 처리하기 (One-hot-encoding)\n"
      ]
    },
    {
      "cell_type": "code",
      "metadata": {
        "id": "c9NJuHO0xjXc"
      },
      "source": [
        "# 만약, A B C D E 와 같은 문자열 데이터가 있다면 머신러닝이 학습 할 수 있도록 변환해야 함\n",
        "\n",
        "feature_category = ['Research']\n",
        "\n",
        "# dummy 처리하기\n",
        "X_category = pd.__________(data[feature_category], columns = feature_category)\n",
        "\n",
        "X_category.head()"
      ],
      "execution_count": null,
      "outputs": []
    },
    {
      "cell_type": "markdown",
      "source": [
        "여기까지 이해 되셨나요?<br>\n",
        "잠시 PPT로 돌아가서 이론을 살펴보고 돌아옵시다 !"
      ],
      "metadata": {
        "id": "nbfNtWw7Mx1g"
      }
    },
    {
      "cell_type": "markdown",
      "metadata": {
        "id": "rytwe_M7OHND"
      },
      "source": [
        "# 모델링과 결과 예측하기"
      ]
    },
    {
      "cell_type": "markdown",
      "metadata": {
        "id": "p-Gqf6PDN8qd"
      },
      "source": [
        "## 학습 데이터와 테스트 데이터 분리하기"
      ]
    },
    {
      "cell_type": "code",
      "metadata": {
        "id": "PeThdb8yxvH4"
      },
      "source": [
        "from sklearn.model_selection import train_test_split\n",
        "\n",
        "# train / test 데이터 분리\n",
        "train_X, test_X, train_Y, test_Y = \n",
        "\n",
        "\n",
        "# test와 train 용으로 나눠야 하는 데이터 X와 Y를 매개변수로 넣어주고\n",
        "# 데이터를 7:3으로 나눠주고\n",
        "# 데이터를 test와 train으로 나누기 전에 랜덤하게 섞어줄 것인지 여부 (일부 구간에 특정한 값이 몰려있지 않도록)\n",
        "# 셔플은 되지만, 동일하게 셔플되도록 random_state = 1"
      ],
      "execution_count": null,
      "outputs": []
    },
    {
      "cell_type": "markdown",
      "metadata": {
        "id": "j7egREDFOUam"
      },
      "source": [
        "## Linear Regression 으로 예측하기"
      ]
    },
    {
      "cell_type": "code",
      "metadata": {
        "id": "uyHfK82HxwI3"
      },
      "source": [
        "from sklearn.linear_model import LinearRegression\n",
        "\n",
        "# 모델 생성\n",
        "linear_model = \n",
        "\n",
        "# 모델 학습 (X와 Y를 모두 주는 지도학습)\n",
        "linear_model.\n",
        "\n",
        "# 모델로 예측하기 (얼마나 학습이 잘 되었나 확인해보자)\n",
        "# 예측에 필요한 feature만 넣어줌\n",
        "linear_predict_y = \n"
      ],
      "execution_count": null,
      "outputs": []
    },
    {
      "cell_type": "markdown",
      "metadata": {
        "id": "yZZMzOQJObNb"
      },
      "source": [
        "### RandomForest Regression 으로 예측하기"
      ]
    },
    {
      "cell_type": "code",
      "metadata": {
        "id": "-KPFOQkbxyKh"
      },
      "source": [
        "from sklearn.ensemble import RandomForestRegressor\n",
        "\n",
        "# 모델 생성\n",
        "randomforest_model = \n",
        "\n",
        "# 모델 학습\n",
        "randomforest_model.\n",
        "\n",
        "# 모델로 예측하기\n",
        "randomforest_predict_y = "
      ],
      "execution_count": null,
      "outputs": []
    },
    {
      "cell_type": "markdown",
      "source": [
        "### 오차 측정하기"
      ],
      "metadata": {
        "id": "pUck6vrOyrGn"
      }
    },
    {
      "cell_type": "code",
      "source": [
        "from sklearn.metrics import mean_squared_error, mean_absolute_error\n",
        "from math import sqrt"
      ],
      "metadata": {
        "id": "KQwf0MA0ysxe"
      },
      "execution_count": null,
      "outputs": []
    },
    {
      "cell_type": "code",
      "source": [
        "# Linear Regression의 오차 측정\n",
        "print(\"Linear Regression Error\")\n",
        "mae = _______________(test_Y, linear_predict_y)\n",
        "rmse = ____(____________(test_Y, linear_predict_y))\n",
        "print(f\"MAE : {mae}\")\n",
        "print(f\"RMSE : {rmse}\")"
      ],
      "metadata": {
        "id": "ZangmRPMy3vN"
      },
      "execution_count": null,
      "outputs": []
    },
    {
      "cell_type": "code",
      "source": [
        "# Random Forest Regression의 오차 측정\n",
        "print(\"Random Forest Regression Error\")\n",
        "mae = _______________(test_Y, randomforest_predict_y)\n",
        "rmse = ____(____________(test_Y, randomforest_predict_y))\n",
        "print(f\"MAE : {mae}\")\n",
        "print(f\"RMSE : {rmse}\")"
      ],
      "metadata": {
        "id": "2JGR5KpyztJ-"
      },
      "execution_count": null,
      "outputs": []
    },
    {
      "cell_type": "markdown",
      "source": [
        "Linear Regression의 예측이 조금 더 정확했다."
      ],
      "metadata": {
        "id": "0A354txEz-aO"
      }
    },
    {
      "cell_type": "markdown",
      "metadata": {
        "id": "kXXWLJdPOvu2"
      },
      "source": [
        "### 어떤 Feature를 중요하게 생각했을까?"
      ]
    },
    {
      "cell_type": "code",
      "source": [
        "# Linear Regression 중요도 (Feature별 가중치)\n",
        "plt.title(\"Linear Regression 중요도\")\n",
        "plt.bar(train_X.columns, linear_model._______)\n",
        "plt.show()"
      ],
      "metadata": {
        "id": "ss4vHDqP0HLJ"
      },
      "execution_count": null,
      "outputs": []
    },
    {
      "cell_type": "code",
      "source": [
        "# Random Forest Regression 중요도 (Feature별 가중치)\n",
        "plt.title(\"Random Forest Regression 중요도\")\n",
        "plt.bar(train_X.columns, randomforest_model.____________)\n",
        "plt.show()"
      ],
      "metadata": {
        "id": "lciURnq30jv-"
      },
      "execution_count": null,
      "outputs": []
    },
    {
      "cell_type": "markdown",
      "source": [
        "간단 결론 : 대학원 입학 확률을 예측하는데 가장 큰 영향을 미치는 요소는 '대학교 학점' <br>\n",
        "단 여러 모델을 가지고 예측을 했을 때 각 모델에서 feature에 반영하는 중요도는 다를 수 있다."
      ],
      "metadata": {
        "id": "k54i7nEz1Dnb"
      }
    },
    {
      "cell_type": "markdown",
      "source": [
        "# 따라치며 이해하는 딥러닝 기초"
      ],
      "metadata": {
        "id": "NsJqsTljy-9w"
      }
    },
    {
      "cell_type": "code",
      "source": [
        "# Tensorflow, Numpy 임포트\n"
      ],
      "metadata": {
        "id": "1acWRtS8y_Vr"
      },
      "execution_count": null,
      "outputs": []
    },
    {
      "cell_type": "code",
      "source": [
        "# X, Y 리스트 변수 선언\n",
        "\n",
        "deep_Y = \n",
        "deep_X = "
      ],
      "metadata": {
        "id": "uocVyqR_zFpV"
      },
      "execution_count": null,
      "outputs": []
    },
    {
      "cell_type": "code",
      "source": [
        "# 데이터 행렬 만들기 (for문)\n",
        "\n",
        "\n"
      ],
      "metadata": {
        "id": "O_XXJl9wzSO5"
      },
      "execution_count": null,
      "outputs": []
    },
    {
      "cell_type": "code",
      "source": [
        "# 모델 생성\n",
        "\n",
        "deep_model = tf.keras.models.Sequential([\n",
        "    tf.keras.layers.Dense(256, activation='tanh'),\n",
        "\n",
        "\n",
        "\n",
        "])\n",
        "\n"
      ],
      "metadata": {
        "id": "L-OowUS5zX_z"
      },
      "execution_count": null,
      "outputs": []
    },
    {
      "cell_type": "markdown",
      "source": [
        "* keras는 sequential 함수를 제공. 층을 차례대로 쌓은 모델\n",
        "* 512개의 유닛을 가진 입력 layer. activation은 층의 활성화함수(의사결정 함수)를 설정하는 매개변수. 'tanh'는 대표적인 함수 중 하나\n",
        "* 최종적으로 하나의 노드로 모아지기 때문에 마지막 유닛은 1개, 0~1까지의 확률이기 때문에 활성화 함수로 'sigmoid'\n",
        "\n",
        "\n"
      ],
      "metadata": {
        "id": "KGDhSQojsQyd"
      }
    },
    {
      "cell_type": "code",
      "source": [
        "# 모델 컴파일\n",
        "\n",
        "deep_model.compile(optimizer='adam', loss='mse', metrics=['mae'])"
      ],
      "metadata": {
        "id": "01aCIRMHzZAv"
      },
      "execution_count": null,
      "outputs": []
    },
    {
      "cell_type": "markdown",
      "source": [
        "* 훈련과정 : 이 함수를 최적화하는 방향으로 학습이 일어나는 대표적인 함수 중 하나인 adam을 사용\n",
        "\n",
        "* 손실함수 : 손실함수를 최소화하는 방향으로 알아서 가중치(w)와 역치(k)를 수정함. 즉, 모델 학습에 재사용됨. 여기서는 mse(mean squared error)를 사용해보자.\n",
        "\n",
        "* 측정함수 : 에포크가 한번 끝날 때마다 모델의 성능을 평가함. 검증데이터로 쓸 데이터를 지정한다. 여기서는 mae를 사용\n",
        "\n",
        "---\n",
        "\n",
        "* 에포크 = 500 은 전체 입력 데이터를 500번 순회한다는 것을 의미"
      ],
      "metadata": {
        "id": "lamMm8iBsoBi"
      }
    },
    {
      "cell_type": "code",
      "source": [
        "# 학습 수행\n",
        "\n",
        "deep_model.fit(np.array(deep_X), np.array(deep_Y), epochs=50)  # 넘파이 배열로 전환해서 전달"
      ],
      "metadata": {
        "id": "FQxaVqNEzlmm"
      },
      "execution_count": null,
      "outputs": []
    },
    {
      "cell_type": "markdown",
      "source": [
        "\n",
        "\n",
        "---\n",
        "\n",
        "\n",
        "\n",
        "---\n",
        "\n"
      ],
      "metadata": {
        "id": "Ndb9h-l5vC6Q"
      }
    },
    {
      "cell_type": "markdown",
      "source": [
        "# 최종 미션\n",
        "\n",
        "## 데이터 분석 보고서 제출하기\n",
        "지난 주부터 지금까지 배운 라이브러리를 활용하여 나만의 데이터 분석 보고서를 만들어봅시다. \n",
        "트위터 API로 스크래핑을 해도 좋고, 대학원 입학 데이터를 활용해도 좋고, Kaggle에 있는 다른 데이터를 활용해서 도전해본다면 더욱 좋습니다.\n",
        "\n",
        "•상상력을 동원해서 재미있는 인사이트를 뽑아내주세요!\n",
        "\n",
        "•파일은 ipynb 형태로 작성해주시고 아래 링크로 제출해주세요.\n",
        "\n",
        "---\n",
        "\n",
        "- 제출 링크 : https://forms.gle/PVqNsEe7vN3zkhLcA\n",
        "- 제출 마감 : 8/31(수) "
      ],
      "metadata": {
        "id": "vHoW-EoNuKVq"
      }
    },
    {
      "cell_type": "code",
      "source": [],
      "metadata": {
        "id": "pAytJhVoujx3"
      },
      "execution_count": null,
      "outputs": []
    }
  ]
}