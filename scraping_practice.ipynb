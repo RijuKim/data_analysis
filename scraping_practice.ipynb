{
  "nbformat": 4,
  "nbformat_minor": 0,
  "metadata": {
    "colab": {
      "provenance": [],
      "authorship_tag": "ABX9TyOjkd9YCdFALaZ2OmREy/tS",
      "include_colab_link": true
    },
    "kernelspec": {
      "name": "python3",
      "display_name": "Python 3"
    },
    "language_info": {
      "name": "python"
    }
  },
  "cells": [
    {
      "cell_type": "markdown",
      "metadata": {
        "id": "view-in-github",
        "colab_type": "text"
      },
      "source": [
        "<a href=\"https://colab.research.google.com/github/RijuKim/data_analysis/blob/main/scraping_practice.ipynb\" target=\"_parent\"><img src=\"https://colab.research.google.com/assets/colab-badge.svg\" alt=\"Open In Colab\"/></a>"
      ]
    },
    {
      "cell_type": "markdown",
      "source": [
        "### Scraping 연습"
      ],
      "metadata": {
        "id": "X8C02peOTUvb"
      }
    },
    {
      "cell_type": "markdown",
      "source": [
        "selenium, chrome driver 설치"
      ],
      "metadata": {
        "id": "dttbj1TvTjX5"
      }
    },
    {
      "cell_type": "code",
      "execution_count": 5,
      "metadata": {
        "colab": {
          "base_uri": "https://localhost:8080/"
        },
        "id": "yVndy9DRS0F_",
        "outputId": "7b6fa775-61be-4c6c-879d-826e5f6c7b7e"
      },
      "outputs": [
        {
          "output_type": "stream",
          "name": "stdout",
          "text": [
            "Looking in indexes: https://pypi.org/simple, https://us-python.pkg.dev/colab-wheels/public/simple/\n",
            "Requirement already satisfied: selenium in /usr/local/lib/python3.8/dist-packages (4.7.2)\n",
            "Requirement already satisfied: trio-websocket~=0.9 in /usr/local/lib/python3.8/dist-packages (from selenium) (0.9.2)\n",
            "Requirement already satisfied: trio~=0.17 in /usr/local/lib/python3.8/dist-packages (from selenium) (0.22.0)\n",
            "Requirement already satisfied: certifi>=2021.10.8 in /usr/local/lib/python3.8/dist-packages (from selenium) (2022.12.7)\n",
            "Requirement already satisfied: urllib3[socks]~=1.26 in /usr/local/lib/python3.8/dist-packages (from selenium) (1.26.13)\n",
            "Requirement already satisfied: async-generator>=1.9 in /usr/local/lib/python3.8/dist-packages (from trio~=0.17->selenium) (1.10)\n",
            "Requirement already satisfied: exceptiongroup>=1.0.0rc9 in /usr/local/lib/python3.8/dist-packages (from trio~=0.17->selenium) (1.1.0)\n",
            "Requirement already satisfied: outcome in /usr/local/lib/python3.8/dist-packages (from trio~=0.17->selenium) (1.2.0)\n",
            "Requirement already satisfied: sortedcontainers in /usr/local/lib/python3.8/dist-packages (from trio~=0.17->selenium) (2.4.0)\n",
            "Requirement already satisfied: attrs>=19.2.0 in /usr/local/lib/python3.8/dist-packages (from trio~=0.17->selenium) (22.2.0)\n",
            "Requirement already satisfied: idna in /usr/local/lib/python3.8/dist-packages (from trio~=0.17->selenium) (2.10)\n",
            "Requirement already satisfied: sniffio in /usr/local/lib/python3.8/dist-packages (from trio~=0.17->selenium) (1.3.0)\n",
            "Requirement already satisfied: wsproto>=0.14 in /usr/local/lib/python3.8/dist-packages (from trio-websocket~=0.9->selenium) (1.2.0)\n",
            "Requirement already satisfied: PySocks!=1.5.7,<2.0,>=1.5.6 in /usr/local/lib/python3.8/dist-packages (from urllib3[socks]~=1.26->selenium) (1.7.1)\n",
            "Requirement already satisfied: h11<1,>=0.9.0 in /usr/local/lib/python3.8/dist-packages (from wsproto>=0.14->trio-websocket~=0.9->selenium) (0.14.0)\n",
            "Hit:1 https://cloud.r-project.org/bin/linux/ubuntu bionic-cran40/ InRelease\n",
            "Ign:2 https://developer.download.nvidia.com/compute/machine-learning/repos/ubuntu1804/x86_64  InRelease\n",
            "Hit:3 https://developer.download.nvidia.com/compute/cuda/repos/ubuntu1804/x86_64  InRelease\n",
            "Get:4 http://security.ubuntu.com/ubuntu bionic-security InRelease [88.7 kB]\n",
            "Hit:5 https://developer.download.nvidia.com/compute/machine-learning/repos/ubuntu1804/x86_64  Release\n",
            "Hit:6 http://ppa.launchpad.net/c2d4u.team/c2d4u4.0+/ubuntu bionic InRelease\n",
            "Hit:7 http://archive.ubuntu.com/ubuntu bionic InRelease\n",
            "Get:9 http://archive.ubuntu.com/ubuntu bionic-updates InRelease [88.7 kB]\n",
            "Hit:10 http://ppa.launchpad.net/cran/libgit2/ubuntu bionic InRelease\n",
            "Hit:11 http://ppa.launchpad.net/deadsnakes/ppa/ubuntu bionic InRelease\n",
            "Get:12 http://archive.ubuntu.com/ubuntu bionic-backports InRelease [83.3 kB]\n",
            "Hit:13 http://ppa.launchpad.net/graphics-drivers/ppa/ubuntu bionic InRelease\n",
            "Fetched 261 kB in 2s (107 kB/s)\n",
            "Reading package lists... Done\n",
            "Reading package lists... Done\n",
            "Building dependency tree       \n",
            "Reading state information... Done\n",
            "The following package was automatically installed and is no longer required:\n",
            "  libnvidia-common-460\n",
            "Use 'apt autoremove' to remove it.\n",
            "The following additional packages will be installed:\n",
            "  chromium-browser chromium-browser-l10n chromium-codecs-ffmpeg-extra\n",
            "Suggested packages:\n",
            "  webaccounts-chromium-extension unity-chromium-extension\n",
            "The following NEW packages will be installed:\n",
            "  chromium-browser chromium-browser-l10n chromium-chromedriver\n",
            "  chromium-codecs-ffmpeg-extra\n",
            "0 upgraded, 4 newly installed, 0 to remove and 26 not upgraded.\n",
            "Need to get 95.6 MB of archives.\n",
            "After this operation, 321 MB of additional disk space will be used.\n",
            "Get:1 http://archive.ubuntu.com/ubuntu bionic-updates/universe amd64 chromium-codecs-ffmpeg-extra amd64 108.0.5359.71-0ubuntu0.18.04.5 [1,159 kB]\n",
            "Get:2 http://archive.ubuntu.com/ubuntu bionic-updates/universe amd64 chromium-browser amd64 108.0.5359.71-0ubuntu0.18.04.5 [83.6 MB]\n",
            "Get:3 http://archive.ubuntu.com/ubuntu bionic-updates/universe amd64 chromium-browser-l10n all 108.0.5359.71-0ubuntu0.18.04.5 [5,230 kB]\n",
            "Get:4 http://archive.ubuntu.com/ubuntu bionic-updates/universe amd64 chromium-chromedriver amd64 108.0.5359.71-0ubuntu0.18.04.5 [5,594 kB]\n",
            "Fetched 95.6 MB in 8s (12.3 MB/s)\n",
            "Selecting previously unselected package chromium-codecs-ffmpeg-extra.\n",
            "(Reading database ... 124016 files and directories currently installed.)\n",
            "Preparing to unpack .../chromium-codecs-ffmpeg-extra_108.0.5359.71-0ubuntu0.18.04.5_amd64.deb ...\n",
            "Unpacking chromium-codecs-ffmpeg-extra (108.0.5359.71-0ubuntu0.18.04.5) ...\n",
            "Selecting previously unselected package chromium-browser.\n",
            "Preparing to unpack .../chromium-browser_108.0.5359.71-0ubuntu0.18.04.5_amd64.deb ...\n",
            "Unpacking chromium-browser (108.0.5359.71-0ubuntu0.18.04.5) ...\n",
            "Selecting previously unselected package chromium-browser-l10n.\n",
            "Preparing to unpack .../chromium-browser-l10n_108.0.5359.71-0ubuntu0.18.04.5_all.deb ...\n",
            "Unpacking chromium-browser-l10n (108.0.5359.71-0ubuntu0.18.04.5) ...\n",
            "Selecting previously unselected package chromium-chromedriver.\n",
            "Preparing to unpack .../chromium-chromedriver_108.0.5359.71-0ubuntu0.18.04.5_amd64.deb ...\n",
            "Unpacking chromium-chromedriver (108.0.5359.71-0ubuntu0.18.04.5) ...\n",
            "Setting up chromium-codecs-ffmpeg-extra (108.0.5359.71-0ubuntu0.18.04.5) ...\n",
            "Setting up chromium-browser (108.0.5359.71-0ubuntu0.18.04.5) ...\n",
            "update-alternatives: using /usr/bin/chromium-browser to provide /usr/bin/x-www-browser (x-www-browser) in auto mode\n",
            "update-alternatives: using /usr/bin/chromium-browser to provide /usr/bin/gnome-www-browser (gnome-www-browser) in auto mode\n",
            "Setting up chromium-chromedriver (108.0.5359.71-0ubuntu0.18.04.5) ...\n",
            "Setting up chromium-browser-l10n (108.0.5359.71-0ubuntu0.18.04.5) ...\n",
            "Processing triggers for man-db (2.8.3-2ubuntu0.1) ...\n",
            "Processing triggers for hicolor-icon-theme (0.17-2) ...\n",
            "Processing triggers for mime-support (3.60ubuntu1) ...\n",
            "Processing triggers for libc-bin (2.27-3ubuntu1.6) ...\n",
            "cp: cannot stat '/usr/lib/chrominum-browser/chromedriver': No such file or directory\n"
          ]
        }
      ],
      "source": [
        "!pip install selenium\n",
        "!apt-get update\n",
        "!apt install chromium-chromedriver\n",
        "#!cp /usr/lib/chrominum-browser/chromedriver  /usr/bin"
      ]
    },
    {
      "cell_type": "code",
      "source": [],
      "metadata": {
        "id": "_2RqA7TlXb56"
      },
      "execution_count": null,
      "outputs": []
    },
    {
      "cell_type": "markdown",
      "source": [
        "##Selenium 모듈 불러오기"
      ],
      "metadata": {
        "id": "VOqkWeo2WFLq"
      }
    },
    {
      "cell_type": "code",
      "source": [
        "from selenium import webdriver\n",
        "from selenium.webdriver.common.by import By"
      ],
      "metadata": {
        "id": "1DK59BV1Thg4"
      },
      "execution_count": 6,
      "outputs": []
    },
    {
      "cell_type": "markdown",
      "source": [
        "##크롬드라이버 옵션 설정하기"
      ],
      "metadata": {
        "id": "FxIJsVuPWWQX"
      }
    },
    {
      "cell_type": "code",
      "source": [
        "options = webdriver.ChromeOptions()\n",
        "options.add_argument('--headless')    # 웹 페이지를 렌더링하는 절차 생략\n",
        "options.add_argument('--no-sandbox')  # 보안기능 일시적 비활성화\n",
        "options.add_argument('--disable-dev-shm-usage') #클라우드 환경에서 생길 수 있는 오류 방지\n",
        "driver = webdriver.Chrome('chromedriver', options=options)\n",
        "\n",
        "#오류 주의"
      ],
      "metadata": {
        "id": "dSzuTHUCWUNt"
      },
      "execution_count": 7,
      "outputs": []
    },
    {
      "cell_type": "markdown",
      "source": [
        "##스크래핑을 위한 사용자 커스터마이징"
      ],
      "metadata": {
        "id": "PQiFsg-gX-F8"
      }
    },
    {
      "cell_type": "code",
      "source": [
        "url = \"https://www.naver.com/\"\n",
        "#크롬드라이버를 통해 url을 가져온다\n",
        "\n",
        "driver.get(url)"
      ],
      "metadata": {
        "id": "SRZvSiOnW7AL"
      },
      "execution_count": 8,
      "outputs": []
    },
    {
      "cell_type": "code",
      "source": [
        "#네이버 사이트의 롤링탭 내용을 데려오자\n",
        "#CSS selector를 찾아 복붙\n",
        "\n",
        "update_title = driver.find_element(By.CSS_SELECTOR, '#NM_ONELINE_ROLLING > div > div')\n",
        "\n",
        "print(update_title.text)"
      ],
      "metadata": {
        "colab": {
          "base_uri": "https://localhost:8080/"
        },
        "id": "hXfm6t8wYKfn",
        "outputId": "6c2f93d1-edb9-4fbe-e724-45e387acd5c1"
      },
      "execution_count": 10,
      "outputs": [
        {
          "output_type": "stream",
          "name": "stdout",
          "text": [
            "中변수에도 실내마스크 해제 조건 도달…내주 논의 시작 전망\n"
          ]
        }
      ]
    },
    {
      "cell_type": "code",
      "source": [
        "#시간차를 두고 여러 롤링탭 내용을 데려와보자\n",
        "\n",
        "from time import sleep\n",
        "update_titles = []\n",
        "\n",
        "for i in range(10):\n",
        "  update_title = driver.find_element(By.CSS_SELECTOR, '#NM_ONELINE_ROLLING > div > div')\n",
        "\n",
        "  update_titles.append(update_title.text)\n",
        "\n",
        "  sleep(3.2)\n",
        "\n",
        "  print(update_titles[i])"
      ],
      "metadata": {
        "colab": {
          "base_uri": "https://localhost:8080/"
        },
        "id": "DScJtU9-Z8UG",
        "outputId": "7787aa74-3a71-4735-e7b0-0d64cce2f53b"
      },
      "execution_count": 12,
      "outputs": [
        {
          "output_type": "stream",
          "name": "stdout",
          "text": [
            "오후 8시까지 돌보는 늘봄학교 실시…초1 방과 후 공백 메운다\n",
            "김만배 '언론계 로비' 드러나나…고문 영입에 돈거래\n",
            "尹대통령 \"개혁 이외에 살길 없어…생존과 미래 위해 필수\"\n",
            "대북단체대표 박상학 \"조만간 드론으로 대북 전단 살포\"\n",
            "당대표 출마 후 경남 찾은 안철수 \"내년 총선 170석 이상 가능\"\n",
            "민주, '北 내통설' 제기 與 신원식 징계안 제출\n",
            "野, 北무인기 고리로 '안보무능' 총공세…\"안보참사, 국기문란\"\n",
            "與 \"무인기 맞대응이 정전협정 위반? 민주당의 조국은 어디인가\"\n",
            "中변수에도 실내마스크 해제 조건 도달…내주 논의 시작 전망\n",
            "과기정통부 \"미국 위성, 한반도 상공 지나간 것으로 추정\"\n"
          ]
        }
      ]
    },
    {
      "cell_type": "code",
      "source": [],
      "metadata": {
        "id": "VNhTVPZlaKqf"
      },
      "execution_count": null,
      "outputs": []
    }
  ]
}